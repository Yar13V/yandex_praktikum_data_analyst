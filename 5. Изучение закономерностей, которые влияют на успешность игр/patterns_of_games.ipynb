{
 "cells": [
  {
   "cell_type": "markdown",
   "metadata": {},
   "source": [
    "# Анализ продаж компьютерных игр\n",
    "\n",
    "### Структура проекта:   \n",
    "- Откроем файл с данными и изучим общую информацию\n",
    "- Исследовательский анализ данных\n",
    "    - Сколько игр выпускалось в разные годы\n",
    "    - Как менялись продажи по платформам\n",
    "    - Актуальный период\n",
    "    - Актуальные платформы\n",
    "    - Зависимость продаж от оценок пользователей\n",
    "    - Зависимость цены от жанра\n",
    "- Портрет пользователя для каждого региона\n",
    "    - Платформы\n",
    "    - Жанры\n",
    "- Проверяем гипотезы\n",
    "    - Средние пользовательские рейтинги платформ Xbox One и PC одинаковые\n",
    "    - Средние пользовательские рейтинги жанров Action и Sports разные\n",
    "- Общий вывод\n",
    "\n",
    "### Описание данных:\n",
    "\n",
    "- *Name* — название игры\n",
    "- *Platform* — платформа\n",
    "- *Year_of_Release* — год выпуска\n",
    "- *Genre* — жанр игры\n",
    "- *NA_sales —* продажи в Северной Америке (миллионы долларов)\n",
    "- *EU_sales* — продажи в Европе (миллионы долларов)\n",
    "- *JP_sales* — продажи в Японии (миллионы долларов)\n",
    "- *Other_sales —* продажи в других странах (миллионы долларов)\n",
    "- *Critic_Score* — оценка критиков (от 0 до 100)\n",
    "- *User_Score* — оценка пользователей (от 0 до 10)\n",
    "- *Rating* — рейтинг от организации *ESRB* (англ. *Entertainment Software Rating Board).* Эта ассоциация определяет рейтинг компьютерных игр и присваивает им подходящую возрастную категорию."
   ]
  },
  {
   "cell_type": "markdown",
   "metadata": {},
   "source": [
    "## Откроем файл с данными и изучим общую информацию"
   ]
  },
  {
   "cell_type": "code",
   "execution_count": 1,
   "metadata": {},
   "outputs": [],
   "source": [
    "import pandas as pd\n",
    "import matplotlib.pyplot as plt\n",
    "import seaborn as sns\n",
    "import matplotlib.ticker as ticker\n",
    "import numpy as np\n",
    "from scipy import stats as st\n",
    "from io import BytesIO\n",
    "import requests"
   ]
  },
  {
   "cell_type": "code",
   "execution_count": 2,
   "metadata": {},
   "outputs": [
    {
     "data": {
      "text/html": [
       "<div>\n",
       "<style scoped>\n",
       "    .dataframe tbody tr th:only-of-type {\n",
       "        vertical-align: middle;\n",
       "    }\n",
       "\n",
       "    .dataframe tbody tr th {\n",
       "        vertical-align: top;\n",
       "    }\n",
       "\n",
       "    .dataframe thead th {\n",
       "        text-align: right;\n",
       "    }\n",
       "</style>\n",
       "<table border=\"1\" class=\"dataframe\">\n",
       "  <thead>\n",
       "    <tr style=\"text-align: right;\">\n",
       "      <th></th>\n",
       "      <th>Name</th>\n",
       "      <th>Platform</th>\n",
       "      <th>Year_of_Release</th>\n",
       "      <th>Genre</th>\n",
       "      <th>NA_sales</th>\n",
       "      <th>EU_sales</th>\n",
       "      <th>JP_sales</th>\n",
       "      <th>Other_sales</th>\n",
       "      <th>Critic_Score</th>\n",
       "      <th>User_Score</th>\n",
       "      <th>Rating</th>\n",
       "    </tr>\n",
       "  </thead>\n",
       "  <tbody>\n",
       "    <tr>\n",
       "      <th>0</th>\n",
       "      <td>Wii Sports</td>\n",
       "      <td>Wii</td>\n",
       "      <td>2006.0</td>\n",
       "      <td>Sports</td>\n",
       "      <td>41.36</td>\n",
       "      <td>28.96</td>\n",
       "      <td>3.77</td>\n",
       "      <td>8.45</td>\n",
       "      <td>76.0</td>\n",
       "      <td>8</td>\n",
       "      <td>E</td>\n",
       "    </tr>\n",
       "    <tr>\n",
       "      <th>1</th>\n",
       "      <td>Super Mario Bros.</td>\n",
       "      <td>NES</td>\n",
       "      <td>1985.0</td>\n",
       "      <td>Platform</td>\n",
       "      <td>29.08</td>\n",
       "      <td>3.58</td>\n",
       "      <td>6.81</td>\n",
       "      <td>0.77</td>\n",
       "      <td>NaN</td>\n",
       "      <td>NaN</td>\n",
       "      <td>NaN</td>\n",
       "    </tr>\n",
       "    <tr>\n",
       "      <th>2</th>\n",
       "      <td>Mario Kart Wii</td>\n",
       "      <td>Wii</td>\n",
       "      <td>2008.0</td>\n",
       "      <td>Racing</td>\n",
       "      <td>15.68</td>\n",
       "      <td>12.76</td>\n",
       "      <td>3.79</td>\n",
       "      <td>3.29</td>\n",
       "      <td>82.0</td>\n",
       "      <td>8.3</td>\n",
       "      <td>E</td>\n",
       "    </tr>\n",
       "    <tr>\n",
       "      <th>3</th>\n",
       "      <td>Wii Sports Resort</td>\n",
       "      <td>Wii</td>\n",
       "      <td>2009.0</td>\n",
       "      <td>Sports</td>\n",
       "      <td>15.61</td>\n",
       "      <td>10.93</td>\n",
       "      <td>3.28</td>\n",
       "      <td>2.95</td>\n",
       "      <td>80.0</td>\n",
       "      <td>8</td>\n",
       "      <td>E</td>\n",
       "    </tr>\n",
       "    <tr>\n",
       "      <th>4</th>\n",
       "      <td>Pokemon Red/Pokemon Blue</td>\n",
       "      <td>GB</td>\n",
       "      <td>1996.0</td>\n",
       "      <td>Role-Playing</td>\n",
       "      <td>11.27</td>\n",
       "      <td>8.89</td>\n",
       "      <td>10.22</td>\n",
       "      <td>1.00</td>\n",
       "      <td>NaN</td>\n",
       "      <td>NaN</td>\n",
       "      <td>NaN</td>\n",
       "    </tr>\n",
       "  </tbody>\n",
       "</table>\n",
       "</div>"
      ],
      "text/plain": [
       "                       Name Platform  Year_of_Release         Genre  NA_sales  \\\n",
       "0                Wii Sports      Wii           2006.0        Sports     41.36   \n",
       "1         Super Mario Bros.      NES           1985.0      Platform     29.08   \n",
       "2            Mario Kart Wii      Wii           2008.0        Racing     15.68   \n",
       "3         Wii Sports Resort      Wii           2009.0        Sports     15.61   \n",
       "4  Pokemon Red/Pokemon Blue       GB           1996.0  Role-Playing     11.27   \n",
       "\n",
       "   EU_sales  JP_sales  Other_sales  Critic_Score User_Score Rating  \n",
       "0     28.96      3.77         8.45          76.0          8      E  \n",
       "1      3.58      6.81         0.77           NaN        NaN    NaN  \n",
       "2     12.76      3.79         3.29          82.0        8.3      E  \n",
       "3     10.93      3.28         2.95          80.0          8      E  \n",
       "4      8.89     10.22         1.00           NaN        NaN    NaN  "
      ]
     },
     "metadata": {},
     "output_type": "display_data"
    },
    {
     "name": "stdout",
     "output_type": "stream",
     "text": [
      "<class 'pandas.core.frame.DataFrame'>\n",
      "RangeIndex: 16715 entries, 0 to 16714\n",
      "Data columns (total 11 columns):\n",
      " #   Column           Non-Null Count  Dtype  \n",
      "---  ------           --------------  -----  \n",
      " 0   Name             16713 non-null  object \n",
      " 1   Platform         16715 non-null  object \n",
      " 2   Year_of_Release  16446 non-null  float64\n",
      " 3   Genre            16713 non-null  object \n",
      " 4   NA_sales         16715 non-null  float64\n",
      " 5   EU_sales         16715 non-null  float64\n",
      " 6   JP_sales         16715 non-null  float64\n",
      " 7   Other_sales      16715 non-null  float64\n",
      " 8   Critic_Score     8137 non-null   float64\n",
      " 9   User_Score       10014 non-null  object \n",
      " 10  Rating           9949 non-null   object \n",
      "dtypes: float64(6), object(5)\n",
      "memory usage: 1.4+ MB\n"
     ]
    }
   ],
   "source": [
    "pd.options.display.max_columns = 30\n",
    "\n",
    "df = pd.read_csv('C:\\\\Users\\\\admin\\\\Documents\\\\Project Python\\\\5. Изучение закономерностей, которые влияют на успешность игр\\\\games.csv')\n",
    "display(df.head())\n",
    "df.info()"
   ]
  },
  {
   "cell_type": "code",
   "execution_count": 35,
   "metadata": {},
   "outputs": [
    {
     "name": "stdout",
     "output_type": "stream",
     "text": [
      "Пропущеные значения, от общего числа значений в столбце\n"
     ]
    },
    {
     "data": {
      "text/html": [
       "<style type=\"text/css\">\n",
       "#T_29b22_row0_col0, #T_29b22_row1_col0, #T_29b22_row2_col0, #T_29b22_row3_col0, #T_29b22_row4_col0, #T_29b22_row5_col0, #T_29b22_row6_col0, #T_29b22_row7_col0, #T_29b22_row10_col0, #T_29b22_row11_col0 {\n",
       "  background-color: #3b4cc0;\n",
       "  color: #f1f1f1;\n",
       "}\n",
       "#T_29b22_row8_col0 {\n",
       "  background-color: #c83836;\n",
       "  color: #f1f1f1;\n",
       "}\n",
       "#T_29b22_row9_col0 {\n",
       "  background-color: #b40426;\n",
       "  color: #f1f1f1;\n",
       "}\n",
       "</style>\n",
       "<table id=\"T_29b22_\">\n",
       "  <thead>\n",
       "    <tr>\n",
       "      <th class=\"blank level0\" >&nbsp;</th>\n",
       "      <th class=\"col_heading level0 col0\" >0</th>\n",
       "    </tr>\n",
       "  </thead>\n",
       "  <tbody>\n",
       "    <tr>\n",
       "      <th id=\"T_29b22_level0_row0\" class=\"row_heading level0 row0\" >name</th>\n",
       "      <td id=\"T_29b22_row0_col0\" class=\"data row0 col0\" >0.000000</td>\n",
       "    </tr>\n",
       "    <tr>\n",
       "      <th id=\"T_29b22_level0_row1\" class=\"row_heading level0 row1\" >platform</th>\n",
       "      <td id=\"T_29b22_row1_col0\" class=\"data row1 col0\" >0.000000</td>\n",
       "    </tr>\n",
       "    <tr>\n",
       "      <th id=\"T_29b22_level0_row2\" class=\"row_heading level0 row2\" >year_of_release</th>\n",
       "      <td id=\"T_29b22_row2_col0\" class=\"data row2 col0\" >0.000000</td>\n",
       "    </tr>\n",
       "    <tr>\n",
       "      <th id=\"T_29b22_level0_row3\" class=\"row_heading level0 row3\" >genre</th>\n",
       "      <td id=\"T_29b22_row3_col0\" class=\"data row3 col0\" >0.000000</td>\n",
       "    </tr>\n",
       "    <tr>\n",
       "      <th id=\"T_29b22_level0_row4\" class=\"row_heading level0 row4\" >na_sales_mil_dol</th>\n",
       "      <td id=\"T_29b22_row4_col0\" class=\"data row4 col0\" >0.000000</td>\n",
       "    </tr>\n",
       "    <tr>\n",
       "      <th id=\"T_29b22_level0_row5\" class=\"row_heading level0 row5\" >eu_sales_mil_dol</th>\n",
       "      <td id=\"T_29b22_row5_col0\" class=\"data row5 col0\" >0.000000</td>\n",
       "    </tr>\n",
       "    <tr>\n",
       "      <th id=\"T_29b22_level0_row6\" class=\"row_heading level0 row6\" >jp_sales_mil_dol</th>\n",
       "      <td id=\"T_29b22_row6_col0\" class=\"data row6 col0\" >0.000000</td>\n",
       "    </tr>\n",
       "    <tr>\n",
       "      <th id=\"T_29b22_level0_row7\" class=\"row_heading level0 row7\" >other_sales</th>\n",
       "      <td id=\"T_29b22_row7_col0\" class=\"data row7 col0\" >0.000000</td>\n",
       "    </tr>\n",
       "    <tr>\n",
       "      <th id=\"T_29b22_level0_row8\" class=\"row_heading level0 row8\" >critic_score</th>\n",
       "      <td id=\"T_29b22_row8_col0\" class=\"data row8 col0\" >51.340000</td>\n",
       "    </tr>\n",
       "    <tr>\n",
       "      <th id=\"T_29b22_level0_row9\" class=\"row_heading level0 row9\" >user_score</th>\n",
       "      <td id=\"T_29b22_row9_col0\" class=\"data row9 col0\" >54.480000</td>\n",
       "    </tr>\n",
       "    <tr>\n",
       "      <th id=\"T_29b22_level0_row10\" class=\"row_heading level0 row10\" >rating</th>\n",
       "      <td id=\"T_29b22_row10_col0\" class=\"data row10 col0\" >0.000000</td>\n",
       "    </tr>\n",
       "    <tr>\n",
       "      <th id=\"T_29b22_level0_row11\" class=\"row_heading level0 row11\" >total_sales_mil_dol</th>\n",
       "      <td id=\"T_29b22_row11_col0\" class=\"data row11 col0\" >0.000000</td>\n",
       "    </tr>\n",
       "  </tbody>\n",
       "</table>\n"
      ],
      "text/plain": [
       "<pandas.io.formats.style.Styler at 0x273abb5de80>"
      ]
     },
     "execution_count": 35,
     "metadata": {},
     "output_type": "execute_result"
    }
   ],
   "source": [
    "print('Пропущеные значения, от общего числа значений в столбце')\n",
    "pd.DataFrame(round((df.isna().mean()*100),2)).style.background_gradient('coolwarm')"
   ]
  },
  {
   "cell_type": "markdown",
   "metadata": {},
   "source": [
    "## Предобработка данных"
   ]
  },
  {
   "cell_type": "code",
   "execution_count": 5,
   "metadata": {},
   "outputs": [
    {
     "data": {
      "text/plain": [
       "Index(['name', 'platform', 'year_of_release', 'genre', 'na_sales_mil_dol',\n",
       "       'eu_sales_mil_dol', 'jp_sales_mil_dol', 'other_sales', 'critic_score',\n",
       "       'user_score', 'rating'],\n",
       "      dtype='object')"
      ]
     },
     "execution_count": 5,
     "metadata": {},
     "output_type": "execute_result"
    }
   ],
   "source": [
    "# Сделаем названия столбцов строчными\n",
    "df.columns = df.columns.str.lower()\n",
    "# Поменям названия столбцов NA_sales, EU_sales, JP_sales, чтобы было понятно что обозначают цифры\n",
    "df = df.rename(columns={'na_sales':'na_sales_mil_dol', 'eu_sales':'eu_sales_mil_dol','jp_sales':'jp_sales_mil_dol'}) \n",
    "df.columns"
   ]
  },
  {
   "cell_type": "code",
   "execution_count": 6,
   "metadata": {
    "scrolled": true
   },
   "outputs": [
    {
     "data": {
      "text/plain": [
       "array(['Sports', 'Platform', 'Racing', 'Role-Playing', 'Puzzle', 'Misc',\n",
       "       'Shooter', 'Simulation', 'Action', 'Fighting', 'Adventure',\n",
       "       'Strategy', nan], dtype=object)"
      ]
     },
     "execution_count": 6,
     "metadata": {},
     "output_type": "execute_result"
    }
   ],
   "source": [
    "# Посмотрим на значения столбца genre\n",
    "df['genre'].unique()"
   ]
  },
  {
   "cell_type": "code",
   "execution_count": 7,
   "metadata": {},
   "outputs": [
    {
     "name": "stdout",
     "output_type": "stream",
     "text": [
      "Количество пропусков в столбце year_of_release: 269\n",
      "Количество пропусков в столбце year_of_release после обработки: 226 -- 1.3% от общего количества строк\n"
     ]
    },
    {
     "data": {
      "text/html": [
       "<div>\n",
       "<style scoped>\n",
       "    .dataframe tbody tr th:only-of-type {\n",
       "        vertical-align: middle;\n",
       "    }\n",
       "\n",
       "    .dataframe tbody tr th {\n",
       "        vertical-align: top;\n",
       "    }\n",
       "\n",
       "    .dataframe thead th {\n",
       "        text-align: right;\n",
       "    }\n",
       "</style>\n",
       "<table border=\"1\" class=\"dataframe\">\n",
       "  <thead>\n",
       "    <tr style=\"text-align: right;\">\n",
       "      <th></th>\n",
       "      <th>name</th>\n",
       "      <th>platform</th>\n",
       "      <th>year_of_release</th>\n",
       "      <th>genre</th>\n",
       "      <th>na_sales_mil_dol</th>\n",
       "      <th>eu_sales_mil_dol</th>\n",
       "      <th>jp_sales_mil_dol</th>\n",
       "      <th>other_sales</th>\n",
       "      <th>critic_score</th>\n",
       "      <th>user_score</th>\n",
       "      <th>rating</th>\n",
       "    </tr>\n",
       "  </thead>\n",
       "  <tbody>\n",
       "    <tr>\n",
       "      <th>1577</th>\n",
       "      <td>Battlefield: Bad Company</td>\n",
       "      <td>X360</td>\n",
       "      <td>2008</td>\n",
       "      <td>Shooter</td>\n",
       "      <td>0.81</td>\n",
       "      <td>0.46</td>\n",
       "      <td>0.04</td>\n",
       "      <td>0.15</td>\n",
       "      <td>83.0</td>\n",
       "      <td>7.7</td>\n",
       "      <td>T</td>\n",
       "    </tr>\n",
       "  </tbody>\n",
       "</table>\n",
       "</div>"
      ],
      "text/plain": [
       "                          name platform  year_of_release    genre  \\\n",
       "1577  Battlefield: Bad Company     X360             2008  Shooter   \n",
       "\n",
       "      na_sales_mil_dol  eu_sales_mil_dol  jp_sales_mil_dol  other_sales  \\\n",
       "1577              0.81              0.46              0.04         0.15   \n",
       "\n",
       "      critic_score user_score rating  \n",
       "1577          83.0        7.7      T  "
      ]
     },
     "execution_count": 7,
     "metadata": {},
     "output_type": "execute_result"
    }
   ],
   "source": [
    "# Удалим пропуски в столбце name\n",
    "df = df[~df['name'].isna()]\n",
    "\n",
    "# Датафрейм-словарь с датой выхода игр (взят c Wikipedia)\n",
    "spreadsheet_id = '1HHqpej7eXOjbabhSH38gryDKYDF5lq4SNi4Dd5-rjro'\n",
    "file_name = 'https://docs.google.com/spreadsheets/d/{}/export?format=csv'.format(spreadsheet_id)\n",
    "r = requests.get(file_name)\n",
    "year_of_release = pd.read_csv(BytesIO(r.content))\n",
    "\n",
    "print('Количество пропусков в столбце year_of_release:', df['year_of_release'].isna().sum())\n",
    "\n",
    "# Создадим столбец для совпадающих значений\n",
    "df = df.merge(year_of_release, how='left', on='name')\n",
    "\n",
    "# Заменим пропуски найдеными значениями\n",
    "df['year_of_release'] = df['year_of_release'].fillna(df['year'])\n",
    "\n",
    "# Удалим ненужный столбец\n",
    "df = df.drop(columns='year')\n",
    "print('Количество пропусков в столбце year_of_release после обработки:', df['year_of_release'].isna().sum(),\n",
    "     '-- {:.1%} от общего количества строк'.format(df['year_of_release'].isna().sum()/len(df['year_of_release'])))\n",
    "\n",
    "# Остальные пропуски составляют малый процент от общего числа значений их можно удалить.\n",
    "df = df[~df['year_of_release'].isna()]\n",
    "df['year_of_release'] = df['year_of_release'].astype(int)\n",
    "df.sample()"
   ]
  },
  {
   "cell_type": "code",
   "execution_count": 8,
   "metadata": {},
   "outputs": [
    {
     "data": {
      "text/html": [
       "<div>\n",
       "<style scoped>\n",
       "    .dataframe tbody tr th:only-of-type {\n",
       "        vertical-align: middle;\n",
       "    }\n",
       "\n",
       "    .dataframe tbody tr th {\n",
       "        vertical-align: top;\n",
       "    }\n",
       "\n",
       "    .dataframe thead th {\n",
       "        text-align: right;\n",
       "    }\n",
       "</style>\n",
       "<table border=\"1\" class=\"dataframe\">\n",
       "  <thead>\n",
       "    <tr style=\"text-align: right;\">\n",
       "      <th></th>\n",
       "      <th>name</th>\n",
       "      <th>platform</th>\n",
       "      <th>year_of_release</th>\n",
       "      <th>genre</th>\n",
       "      <th>na_sales_mil_dol</th>\n",
       "      <th>eu_sales_mil_dol</th>\n",
       "      <th>jp_sales_mil_dol</th>\n",
       "      <th>other_sales</th>\n",
       "      <th>critic_score</th>\n",
       "      <th>user_score</th>\n",
       "      <th>rating</th>\n",
       "    </tr>\n",
       "  </thead>\n",
       "  <tbody>\n",
       "    <tr>\n",
       "      <th>10152</th>\n",
       "      <td>Sid Meier's Pirates!</td>\n",
       "      <td>XB</td>\n",
       "      <td>2005</td>\n",
       "      <td>Strategy</td>\n",
       "      <td>0.11</td>\n",
       "      <td>0.03</td>\n",
       "      <td>0.0</td>\n",
       "      <td>0.01</td>\n",
       "      <td>NaN</td>\n",
       "      <td>NaN</td>\n",
       "      <td>NaN</td>\n",
       "    </tr>\n",
       "  </tbody>\n",
       "</table>\n",
       "</div>"
      ],
      "text/plain": [
       "                       name platform  year_of_release     genre  \\\n",
       "10152  Sid Meier's Pirates!       XB             2005  Strategy   \n",
       "\n",
       "       na_sales_mil_dol  eu_sales_mil_dol  jp_sales_mil_dol  other_sales  \\\n",
       "10152              0.11              0.03               0.0         0.01   \n",
       "\n",
       "       critic_score user_score rating  \n",
       "10152           NaN        NaN    NaN  "
      ]
     },
     "execution_count": 8,
     "metadata": {},
     "output_type": "execute_result"
    }
   ],
   "source": [
    "# Посмотрим на пропуски в столбце rating\n",
    "df[df['rating'].isna()].sample()"
   ]
  },
  {
   "cell_type": "markdown",
   "metadata": {},
   "source": [
    "В большинстве случаев пропуски в столбцах critic_score, user_score, rating совпадают. Пропусков рейтинга слишком много, что бы мы могли их восстановить или удалить. Установим значение-заглушку, но для начала посмотрим, какие значения рейтинга у нас вообще есть:"
   ]
  },
  {
   "cell_type": "code",
   "execution_count": 9,
   "metadata": {},
   "outputs": [
    {
     "data": {
      "text/plain": [
       "Unknown    6822\n",
       "E          4245\n",
       "T          3283\n",
       "M          1818\n",
       "E10+       1536\n",
       "EC            8\n",
       "K-A           3\n",
       "AO            3\n",
       "RP            1\n",
       "Name: rating, dtype: int64"
      ]
     },
     "execution_count": 9,
     "metadata": {},
     "output_type": "execute_result"
    }
   ],
   "source": [
    "df['rating'] = df['rating'].fillna('Unknown')\n",
    "df['rating'].value_counts()"
   ]
  },
  {
   "cell_type": "markdown",
   "metadata": {},
   "source": [
    "4 вида рейтинга встречаются часто: Е, Т, М и Е10+. А остальные почти не встречаются. Их можно заменить:\n",
    "\n",
    "- АО - на М;\n",
    "- RP - фактически, рейтинг не известен. Можно заменить на Unknown;\n",
    "- ЕС - на Е;\n",
    "- К-А - на Е."
   ]
  },
  {
   "cell_type": "code",
   "execution_count": 10,
   "metadata": {},
   "outputs": [
    {
     "name": "stdout",
     "output_type": "stream",
     "text": [
      "[76. nan 82. 80. 89. 58. 87. 91. 61. 97. 95. 77. 88. 83. 94. 93. 85. 86.\n",
      " 98. 96. 90. 84. 73. 74. 78. 92. 71. 72. 68. 62. 49. 67. 81. 66. 56. 79.\n",
      " 70. 59. 64. 75. 60. 63. 69. 50. 25. 42. 44. 55. 48. 57. 29. 47. 65. 54.\n",
      " 20. 53. 37. 38. 33. 52. 30. 32. 43. 45. 51. 40. 46. 39. 34. 35. 41. 36.\n",
      " 28. 31. 27. 26. 19. 23. 24. 21. 17. 13.]\n"
     ]
    },
    {
     "data": {
      "text/plain": [
       "array(['8', nan, '8.3', '8.5', '6.6', '8.4', '8.6', '7.7', '6.3', '7.4',\n",
       "       '8.2', '9', '7.9', '8.1', '8.7', '7.1', '3.4', '5.3', '4.8', '3.2',\n",
       "       '8.9', '6.4', '7.8', '7.5', '2.6', '7.2', '9.2', '7', '7.3', '4.3',\n",
       "       '7.6', '5.7', '5', '9.1', '6.5', 'tbd', '8.8', '6.9', '9.4', '6.8',\n",
       "       '6.1', '6.7', '5.4', '4', '4.9', '4.5', '9.3', '6.2', '4.2', '6',\n",
       "       '3.7', '4.1', '5.8', '5.6', '5.5', '4.4', '4.6', '5.9', '3.9',\n",
       "       '3.1', '2.9', '5.2', '3.3', '4.7', '5.1', '3.5', '2.5', '1.9', '3',\n",
       "       '2.7', '2.2', '2', '9.5', '2.1', '3.6', '2.8', '1.8', '3.8', '0',\n",
       "       '1.6', '9.6', '2.4', '1.7', '1.1', '0.3', '1.5', '0.7', '1.2',\n",
       "       '2.3', '0.5', '1.3', '0.2', '0.6', '1.4', '0.9', '1', '9.7'],\n",
       "      dtype=object)"
      ]
     },
     "execution_count": 10,
     "metadata": {},
     "output_type": "execute_result"
    }
   ],
   "source": [
    "# Посмоттрим какие значения встречаются в столбцах critic_score и user_score\n",
    "print(df['critic_score'].unique())\n",
    "df['user_score'].unique()"
   ]
  },
  {
   "cell_type": "markdown",
   "metadata": {},
   "source": [
    "Значения представлены в числовом формате менять пропуски на заглушки не оптимально с учетом дальнейшего исследования. Приведем рейтинг пользователей и критиков в единый фомат для большего удобства. tbd - to be determined (рейтинг не определен) заменим пустыми значениями и поменяем формат на числовой."
   ]
  },
  {
   "cell_type": "code",
   "execution_count": 11,
   "metadata": {},
   "outputs": [
    {
     "name": "stdout",
     "output_type": "stream",
     "text": [
      "<class 'pandas.core.frame.DataFrame'>\n",
      "Int64Index: 17719 entries, 0 to 17944\n",
      "Data columns (total 11 columns):\n",
      " #   Column            Non-Null Count  Dtype  \n",
      "---  ------            --------------  -----  \n",
      " 0   name              17719 non-null  object \n",
      " 1   platform          17719 non-null  object \n",
      " 2   year_of_release   17719 non-null  int32  \n",
      " 3   genre             17719 non-null  object \n",
      " 4   na_sales_mil_dol  17719 non-null  float64\n",
      " 5   eu_sales_mil_dol  17719 non-null  float64\n",
      " 6   jp_sales_mil_dol  17719 non-null  float64\n",
      " 7   other_sales       17719 non-null  float64\n",
      " 8   critic_score      9067 non-null   float64\n",
      " 9   user_score        8555 non-null   float64\n",
      " 10  rating            17719 non-null  object \n",
      "dtypes: float64(6), int32(1), object(4)\n",
      "memory usage: 1.6+ MB\n"
     ]
    }
   ],
   "source": [
    "df['user_score'] = df['user_score'].replace('tbd', np.NaN).astype(float)   \n",
    "df['critic_score'] = df['critic_score'] / 10\n",
    "df.info()"
   ]
  },
  {
   "cell_type": "code",
   "execution_count": 12,
   "metadata": {},
   "outputs": [
    {
     "data": {
      "text/html": [
       "<div>\n",
       "<style scoped>\n",
       "    .dataframe tbody tr th:only-of-type {\n",
       "        vertical-align: middle;\n",
       "    }\n",
       "\n",
       "    .dataframe tbody tr th {\n",
       "        vertical-align: top;\n",
       "    }\n",
       "\n",
       "    .dataframe thead th {\n",
       "        text-align: right;\n",
       "    }\n",
       "</style>\n",
       "<table border=\"1\" class=\"dataframe\">\n",
       "  <thead>\n",
       "    <tr style=\"text-align: right;\">\n",
       "      <th></th>\n",
       "      <th>name</th>\n",
       "      <th>platform</th>\n",
       "      <th>year_of_release</th>\n",
       "      <th>genre</th>\n",
       "      <th>na_sales_mil_dol</th>\n",
       "      <th>eu_sales_mil_dol</th>\n",
       "      <th>jp_sales_mil_dol</th>\n",
       "      <th>other_sales</th>\n",
       "      <th>critic_score</th>\n",
       "      <th>user_score</th>\n",
       "      <th>rating</th>\n",
       "      <th>total_sales_mil_dol</th>\n",
       "    </tr>\n",
       "  </thead>\n",
       "  <tbody>\n",
       "    <tr>\n",
       "      <th>13455</th>\n",
       "      <td>F1 2001</td>\n",
       "      <td>XB</td>\n",
       "      <td>2001</td>\n",
       "      <td>Racing</td>\n",
       "      <td>0.05</td>\n",
       "      <td>0.01</td>\n",
       "      <td>0.0</td>\n",
       "      <td>0.0</td>\n",
       "      <td>8.3</td>\n",
       "      <td>5.5</td>\n",
       "      <td>E</td>\n",
       "      <td>0.06</td>\n",
       "    </tr>\n",
       "  </tbody>\n",
       "</table>\n",
       "</div>"
      ],
      "text/plain": [
       "          name platform  year_of_release   genre  na_sales_mil_dol  \\\n",
       "13455  F1 2001       XB             2001  Racing              0.05   \n",
       "\n",
       "       eu_sales_mil_dol  jp_sales_mil_dol  other_sales  critic_score  \\\n",
       "13455              0.01               0.0          0.0           8.3   \n",
       "\n",
       "       user_score rating  total_sales_mil_dol  \n",
       "13455         5.5      E                 0.06  "
      ]
     },
     "execution_count": 12,
     "metadata": {},
     "output_type": "execute_result"
    }
   ],
   "source": [
    "# Пропуски обработаны. Добавим столбец с сумарными продажами по все регионам\n",
    "df['total_sales_mil_dol'] = df[['na_sales_mil_dol', 'eu_sales_mil_dol', 'jp_sales_mil_dol', 'other_sales']].sum(axis=1)\n",
    "df.sample()"
   ]
  },
  {
   "cell_type": "markdown",
   "metadata": {},
   "source": [
    "Проверим дубликаты. Единственно возможный вариант неявных дублей - это игры с одинаковыми названиями, но с разными жанрами. "
   ]
  },
  {
   "cell_type": "code",
   "execution_count": 13,
   "metadata": {},
   "outputs": [
    {
     "data": {
      "text/html": [
       "<div>\n",
       "<style scoped>\n",
       "    .dataframe tbody tr th:only-of-type {\n",
       "        vertical-align: middle;\n",
       "    }\n",
       "\n",
       "    .dataframe tbody tr th {\n",
       "        vertical-align: top;\n",
       "    }\n",
       "\n",
       "    .dataframe thead th {\n",
       "        text-align: right;\n",
       "    }\n",
       "</style>\n",
       "<table border=\"1\" class=\"dataframe\">\n",
       "  <thead>\n",
       "    <tr style=\"text-align: right;\">\n",
       "      <th></th>\n",
       "      <th>name</th>\n",
       "      <th>platform</th>\n",
       "      <th>year_of_release</th>\n",
       "      <th>genre</th>\n",
       "      <th>na_sales_mil_dol</th>\n",
       "      <th>eu_sales_mil_dol</th>\n",
       "      <th>jp_sales_mil_dol</th>\n",
       "      <th>other_sales</th>\n",
       "      <th>critic_score</th>\n",
       "      <th>user_score</th>\n",
       "      <th>rating</th>\n",
       "      <th>total_sales_mil_dol</th>\n",
       "    </tr>\n",
       "  </thead>\n",
       "  <tbody>\n",
       "  </tbody>\n",
       "</table>\n",
       "</div>"
      ],
      "text/plain": [
       "Empty DataFrame\n",
       "Columns: [name, platform, year_of_release, genre, na_sales_mil_dol, eu_sales_mil_dol, jp_sales_mil_dol, other_sales, critic_score, user_score, rating, total_sales_mil_dol]\n",
       "Index: []"
      ]
     },
     "metadata": {},
     "output_type": "display_data"
    },
    {
     "data": {
      "text/html": [
       "<div>\n",
       "<style scoped>\n",
       "    .dataframe tbody tr th:only-of-type {\n",
       "        vertical-align: middle;\n",
       "    }\n",
       "\n",
       "    .dataframe tbody tr th {\n",
       "        vertical-align: top;\n",
       "    }\n",
       "\n",
       "    .dataframe thead th {\n",
       "        text-align: right;\n",
       "    }\n",
       "</style>\n",
       "<table border=\"1\" class=\"dataframe\">\n",
       "  <thead>\n",
       "    <tr style=\"text-align: right;\">\n",
       "      <th></th>\n",
       "      <th>name</th>\n",
       "      <th>platform</th>\n",
       "      <th>year_of_release</th>\n",
       "      <th>genre</th>\n",
       "      <th>na_sales_mil_dol</th>\n",
       "      <th>eu_sales_mil_dol</th>\n",
       "      <th>jp_sales_mil_dol</th>\n",
       "      <th>other_sales</th>\n",
       "      <th>critic_score</th>\n",
       "      <th>user_score</th>\n",
       "      <th>rating</th>\n",
       "      <th>total_sales_mil_dol</th>\n",
       "    </tr>\n",
       "  </thead>\n",
       "  <tbody>\n",
       "    <tr>\n",
       "      <th>4736</th>\n",
       "      <td>Sonic the Hedgehog</td>\n",
       "      <td>PS3</td>\n",
       "      <td>2006</td>\n",
       "      <td>Platform</td>\n",
       "      <td>0.0</td>\n",
       "      <td>0.48</td>\n",
       "      <td>0.0</td>\n",
       "      <td>0.0</td>\n",
       "      <td>4.3</td>\n",
       "      <td>4.1</td>\n",
       "      <td>E10+</td>\n",
       "      <td>0.48</td>\n",
       "    </tr>\n",
       "    <tr>\n",
       "      <th>17447</th>\n",
       "      <td>Madden NFL 13</td>\n",
       "      <td>PS3</td>\n",
       "      <td>2012</td>\n",
       "      <td>Sports</td>\n",
       "      <td>0.0</td>\n",
       "      <td>0.01</td>\n",
       "      <td>0.0</td>\n",
       "      <td>0.0</td>\n",
       "      <td>8.3</td>\n",
       "      <td>5.5</td>\n",
       "      <td>E</td>\n",
       "      <td>0.01</td>\n",
       "    </tr>\n",
       "  </tbody>\n",
       "</table>\n",
       "</div>"
      ],
      "text/plain": [
       "                     name platform  year_of_release     genre  \\\n",
       "4736   Sonic the Hedgehog      PS3             2006  Platform   \n",
       "17447       Madden NFL 13      PS3             2012    Sports   \n",
       "\n",
       "       na_sales_mil_dol  eu_sales_mil_dol  jp_sales_mil_dol  other_sales  \\\n",
       "4736                0.0              0.48               0.0          0.0   \n",
       "17447               0.0              0.01               0.0          0.0   \n",
       "\n",
       "       critic_score  user_score rating  total_sales_mil_dol  \n",
       "4736            4.3         4.1   E10+                 0.48  \n",
       "17447           8.3         5.5      E                 0.01  "
      ]
     },
     "metadata": {},
     "output_type": "display_data"
    },
    {
     "data": {
      "text/html": [
       "<div>\n",
       "<style scoped>\n",
       "    .dataframe tbody tr th:only-of-type {\n",
       "        vertical-align: middle;\n",
       "    }\n",
       "\n",
       "    .dataframe tbody tr th {\n",
       "        vertical-align: top;\n",
       "    }\n",
       "\n",
       "    .dataframe thead th {\n",
       "        text-align: right;\n",
       "    }\n",
       "</style>\n",
       "<table border=\"1\" class=\"dataframe\">\n",
       "  <thead>\n",
       "    <tr style=\"text-align: right;\">\n",
       "      <th></th>\n",
       "      <th>name</th>\n",
       "      <th>platform</th>\n",
       "      <th>year_of_release</th>\n",
       "      <th>genre</th>\n",
       "      <th>na_sales_mil_dol</th>\n",
       "      <th>eu_sales_mil_dol</th>\n",
       "      <th>jp_sales_mil_dol</th>\n",
       "      <th>other_sales</th>\n",
       "      <th>critic_score</th>\n",
       "      <th>user_score</th>\n",
       "      <th>rating</th>\n",
       "      <th>total_sales_mil_dol</th>\n",
       "    </tr>\n",
       "  </thead>\n",
       "  <tbody>\n",
       "    <tr>\n",
       "      <th>315</th>\n",
       "      <td>Sonic the Hedgehog</td>\n",
       "      <td>GEN</td>\n",
       "      <td>1991</td>\n",
       "      <td>Platform</td>\n",
       "      <td>3.03</td>\n",
       "      <td>0.91</td>\n",
       "      <td>0.26</td>\n",
       "      <td>0.13</td>\n",
       "      <td>NaN</td>\n",
       "      <td>NaN</td>\n",
       "      <td>Unknown</td>\n",
       "      <td>4.33</td>\n",
       "    </tr>\n",
       "    <tr>\n",
       "      <th>2066</th>\n",
       "      <td>Sonic the Hedgehog</td>\n",
       "      <td>PS3</td>\n",
       "      <td>2006</td>\n",
       "      <td>Platform</td>\n",
       "      <td>0.41</td>\n",
       "      <td>0.06</td>\n",
       "      <td>0.04</td>\n",
       "      <td>0.66</td>\n",
       "      <td>4.3</td>\n",
       "      <td>4.1</td>\n",
       "      <td>E10+</td>\n",
       "      <td>1.17</td>\n",
       "    </tr>\n",
       "    <tr>\n",
       "      <th>2342</th>\n",
       "      <td>Sonic the Hedgehog</td>\n",
       "      <td>X360</td>\n",
       "      <td>2006</td>\n",
       "      <td>Platform</td>\n",
       "      <td>0.44</td>\n",
       "      <td>0.48</td>\n",
       "      <td>0.00</td>\n",
       "      <td>0.11</td>\n",
       "      <td>4.6</td>\n",
       "      <td>4.4</td>\n",
       "      <td>E10+</td>\n",
       "      <td>1.03</td>\n",
       "    </tr>\n",
       "    <tr>\n",
       "      <th>4736</th>\n",
       "      <td>Sonic the Hedgehog</td>\n",
       "      <td>PS3</td>\n",
       "      <td>2006</td>\n",
       "      <td>Platform</td>\n",
       "      <td>0.00</td>\n",
       "      <td>0.48</td>\n",
       "      <td>0.00</td>\n",
       "      <td>0.00</td>\n",
       "      <td>4.3</td>\n",
       "      <td>4.1</td>\n",
       "      <td>E10+</td>\n",
       "      <td>0.48</td>\n",
       "    </tr>\n",
       "  </tbody>\n",
       "</table>\n",
       "</div>"
      ],
      "text/plain": [
       "                    name platform  year_of_release     genre  \\\n",
       "315   Sonic the Hedgehog      GEN             1991  Platform   \n",
       "2066  Sonic the Hedgehog      PS3             2006  Platform   \n",
       "2342  Sonic the Hedgehog     X360             2006  Platform   \n",
       "4736  Sonic the Hedgehog      PS3             2006  Platform   \n",
       "\n",
       "      na_sales_mil_dol  eu_sales_mil_dol  jp_sales_mil_dol  other_sales  \\\n",
       "315               3.03              0.91              0.26         0.13   \n",
       "2066              0.41              0.06              0.04         0.66   \n",
       "2342              0.44              0.48              0.00         0.11   \n",
       "4736              0.00              0.48              0.00         0.00   \n",
       "\n",
       "      critic_score  user_score   rating  total_sales_mil_dol  \n",
       "315            NaN         NaN  Unknown                 4.33  \n",
       "2066           4.3         4.1     E10+                 1.17  \n",
       "2342           4.6         4.4     E10+                 1.03  \n",
       "4736           4.3         4.1     E10+                 0.48  "
      ]
     },
     "metadata": {},
     "output_type": "display_data"
    },
    {
     "data": {
      "text/html": [
       "<div>\n",
       "<style scoped>\n",
       "    .dataframe tbody tr th:only-of-type {\n",
       "        vertical-align: middle;\n",
       "    }\n",
       "\n",
       "    .dataframe tbody tr th {\n",
       "        vertical-align: top;\n",
       "    }\n",
       "\n",
       "    .dataframe thead th {\n",
       "        text-align: right;\n",
       "    }\n",
       "</style>\n",
       "<table border=\"1\" class=\"dataframe\">\n",
       "  <thead>\n",
       "    <tr style=\"text-align: right;\">\n",
       "      <th></th>\n",
       "      <th>name</th>\n",
       "      <th>platform</th>\n",
       "      <th>year_of_release</th>\n",
       "      <th>genre</th>\n",
       "      <th>na_sales_mil_dol</th>\n",
       "      <th>eu_sales_mil_dol</th>\n",
       "      <th>jp_sales_mil_dol</th>\n",
       "      <th>other_sales</th>\n",
       "      <th>critic_score</th>\n",
       "      <th>user_score</th>\n",
       "      <th>rating</th>\n",
       "      <th>total_sales_mil_dol</th>\n",
       "    </tr>\n",
       "  </thead>\n",
       "  <tbody>\n",
       "    <tr>\n",
       "      <th>615</th>\n",
       "      <td>Madden NFL 13</td>\n",
       "      <td>X360</td>\n",
       "      <td>2012</td>\n",
       "      <td>Sports</td>\n",
       "      <td>2.53</td>\n",
       "      <td>0.15</td>\n",
       "      <td>0.0</td>\n",
       "      <td>0.17</td>\n",
       "      <td>8.1</td>\n",
       "      <td>5.8</td>\n",
       "      <td>E</td>\n",
       "      <td>2.85</td>\n",
       "    </tr>\n",
       "    <tr>\n",
       "      <th>746</th>\n",
       "      <td>Madden NFL 13</td>\n",
       "      <td>PS3</td>\n",
       "      <td>2012</td>\n",
       "      <td>Sports</td>\n",
       "      <td>2.11</td>\n",
       "      <td>0.22</td>\n",
       "      <td>0.0</td>\n",
       "      <td>0.23</td>\n",
       "      <td>8.3</td>\n",
       "      <td>5.5</td>\n",
       "      <td>E</td>\n",
       "      <td>2.56</td>\n",
       "    </tr>\n",
       "    <tr>\n",
       "      <th>4585</th>\n",
       "      <td>Madden NFL 13</td>\n",
       "      <td>Wii</td>\n",
       "      <td>2012</td>\n",
       "      <td>Sports</td>\n",
       "      <td>0.47</td>\n",
       "      <td>0.00</td>\n",
       "      <td>0.0</td>\n",
       "      <td>0.03</td>\n",
       "      <td>NaN</td>\n",
       "      <td>7.3</td>\n",
       "      <td>E</td>\n",
       "      <td>0.50</td>\n",
       "    </tr>\n",
       "    <tr>\n",
       "      <th>6652</th>\n",
       "      <td>Madden NFL 13</td>\n",
       "      <td>PSV</td>\n",
       "      <td>2012</td>\n",
       "      <td>Sports</td>\n",
       "      <td>0.28</td>\n",
       "      <td>0.00</td>\n",
       "      <td>0.0</td>\n",
       "      <td>0.02</td>\n",
       "      <td>6.3</td>\n",
       "      <td>7.3</td>\n",
       "      <td>E</td>\n",
       "      <td>0.30</td>\n",
       "    </tr>\n",
       "    <tr>\n",
       "      <th>7902</th>\n",
       "      <td>Madden NFL 13</td>\n",
       "      <td>WiiU</td>\n",
       "      <td>2012</td>\n",
       "      <td>Sports</td>\n",
       "      <td>0.21</td>\n",
       "      <td>0.00</td>\n",
       "      <td>0.0</td>\n",
       "      <td>0.02</td>\n",
       "      <td>7.5</td>\n",
       "      <td>6.7</td>\n",
       "      <td>E</td>\n",
       "      <td>0.23</td>\n",
       "    </tr>\n",
       "    <tr>\n",
       "      <th>17447</th>\n",
       "      <td>Madden NFL 13</td>\n",
       "      <td>PS3</td>\n",
       "      <td>2012</td>\n",
       "      <td>Sports</td>\n",
       "      <td>0.00</td>\n",
       "      <td>0.01</td>\n",
       "      <td>0.0</td>\n",
       "      <td>0.00</td>\n",
       "      <td>8.3</td>\n",
       "      <td>5.5</td>\n",
       "      <td>E</td>\n",
       "      <td>0.01</td>\n",
       "    </tr>\n",
       "  </tbody>\n",
       "</table>\n",
       "</div>"
      ],
      "text/plain": [
       "                name platform  year_of_release   genre  na_sales_mil_dol  \\\n",
       "615    Madden NFL 13     X360             2012  Sports              2.53   \n",
       "746    Madden NFL 13      PS3             2012  Sports              2.11   \n",
       "4585   Madden NFL 13      Wii             2012  Sports              0.47   \n",
       "6652   Madden NFL 13      PSV             2012  Sports              0.28   \n",
       "7902   Madden NFL 13     WiiU             2012  Sports              0.21   \n",
       "17447  Madden NFL 13      PS3             2012  Sports              0.00   \n",
       "\n",
       "       eu_sales_mil_dol  jp_sales_mil_dol  other_sales  critic_score  \\\n",
       "615                0.15               0.0         0.17           8.1   \n",
       "746                0.22               0.0         0.23           8.3   \n",
       "4585               0.00               0.0         0.03           NaN   \n",
       "6652               0.00               0.0         0.02           6.3   \n",
       "7902               0.00               0.0         0.02           7.5   \n",
       "17447              0.01               0.0         0.00           8.3   \n",
       "\n",
       "       user_score rating  total_sales_mil_dol  \n",
       "615           5.8      E                 2.85  \n",
       "746           5.5      E                 2.56  \n",
       "4585          7.3      E                 0.50  \n",
       "6652          7.3      E                 0.30  \n",
       "7902          6.7      E                 0.23  \n",
       "17447         5.5      E                 0.01  "
      ]
     },
     "metadata": {},
     "output_type": "display_data"
    },
    {
     "data": {
      "text/html": [
       "<div>\n",
       "<style scoped>\n",
       "    .dataframe tbody tr th:only-of-type {\n",
       "        vertical-align: middle;\n",
       "    }\n",
       "\n",
       "    .dataframe tbody tr th {\n",
       "        vertical-align: top;\n",
       "    }\n",
       "\n",
       "    .dataframe thead th {\n",
       "        text-align: right;\n",
       "    }\n",
       "</style>\n",
       "<table border=\"1\" class=\"dataframe\">\n",
       "  <thead>\n",
       "    <tr style=\"text-align: right;\">\n",
       "      <th></th>\n",
       "      <th>name</th>\n",
       "      <th>platform</th>\n",
       "      <th>year_of_release</th>\n",
       "      <th>genre</th>\n",
       "      <th>na_sales_mil_dol</th>\n",
       "      <th>eu_sales_mil_dol</th>\n",
       "      <th>jp_sales_mil_dol</th>\n",
       "      <th>other_sales</th>\n",
       "      <th>critic_score</th>\n",
       "      <th>user_score</th>\n",
       "      <th>rating</th>\n",
       "      <th>total_sales_mil_dol</th>\n",
       "    </tr>\n",
       "  </thead>\n",
       "  <tbody>\n",
       "  </tbody>\n",
       "</table>\n",
       "</div>"
      ],
      "text/plain": [
       "Empty DataFrame\n",
       "Columns: [name, platform, year_of_release, genre, na_sales_mil_dol, eu_sales_mil_dol, jp_sales_mil_dol, other_sales, critic_score, user_score, rating, total_sales_mil_dol]\n",
       "Index: []"
      ]
     },
     "metadata": {},
     "output_type": "display_data"
    }
   ],
   "source": [
    "df.duplicated()\n",
    "df = df.drop_duplicates()\n",
    "# Проверим неявные дубликаты: название игры - жанр игры\n",
    "display(df[df['name'].duplicated() & ~df['genre'].duplicated()])\n",
    "# Проверим неявные дубликаты: наименование платформы - название игры - год выпуска\n",
    "display(df[df[['name', 'platform', 'year_of_release']].duplicated()])\n",
    "# Посмотрим на каждое значение\n",
    "display(df[df['name'] == 'Sonic the Hedgehog'])\n",
    "display(df[df['name'] == 'Madden NFL 13'])\n",
    "# Удалим строки в которых меньше информации\n",
    "df.drop(labels = [17447, 4736], axis = 0, inplace = True)\n",
    "# И проверим результат\n",
    "display(df[df[['name', 'platform', 'year_of_release']].duplicated()])"
   ]
  },
  {
   "cell_type": "markdown",
   "metadata": {},
   "source": [
    "## Исследовательский анализ данных\n",
    "### Сколько игр выпускалось в разные годы"
   ]
  },
  {
   "cell_type": "code",
   "execution_count": 14,
   "metadata": {},
   "outputs": [
    {
     "data": {
      "image/png": "[encoded data removed]",
      "text/plain": [
       "<Figure size 936x576 with 1 Axes>"
      ]
     },
     "metadata": {
      "needs_background": "light"
     },
     "output_type": "display_data"
    }
   ],
   "source": [
    "year_games = df.pivot_table(index='year_of_release', values='name', aggfunc='count')\n",
    "\n",
    "plt.figure(figsize=(13, 8))\n",
    "(sns.lineplot(data = year_games, x = year_games.index, y = 'name')\n",
    "    .set(title = 'Динамика выпуска игр по годам', xlabel = 'Год', ylabel = 'Количество выпущенных игр'))\n",
    "plt.show()"
   ]
  },
  {
   "cell_type": "markdown",
   "metadata": {},
   "source": [
    "**Вывод:** Мы видим, что до 2000 игр выпускалось крайне мало, вероятно индустрия только зарождалась. Скачок произошел с 2001-2002 и длился до пика 2008-2009 года, после чего количество выпускаемых игр пошло на спад, полагаю это может быть связано с разивтием мобильной индустрии, увеличением времени и средств на разработку игр\n",
    "\n",
    "### Как менялись продажи по платформам"
   ]
  },
  {
   "cell_type": "code",
   "execution_count": 15,
   "metadata": {},
   "outputs": [
    {
     "data": {
      "image/png": "[encoded data removed]",
      "text/plain": [
       "<Figure size 936x576 with 1 Axes>"
      ]
     },
     "metadata": {
      "needs_background": "light"
     },
     "output_type": "display_data"
    }
   ],
   "source": [
    "# Делаем группировку по общей сумме продаж\n",
    "platform_sales = (df.pivot_table(index='platform', values='total_sales_mil_dol', aggfunc='sum')\n",
    "                    .sort_values('total_sales_mil_dol', ascending=False))\n",
    "# Строим гистограмму\n",
    "plt.figure(figsize=(13, 8))\n",
    "(sns.barplot(data = platform_sales, x = platform_sales.index, y = 'total_sales_mil_dol')\n",
    "    .set(title = 'Продажи по платформам', xlabel = 'Платформы', ylabel = 'Общие продажи'))\n",
    "plt.show()"
   ]
  },
  {
   "cell_type": "markdown",
   "metadata": {},
   "source": [
    "Лидирующие позиции занимают 6 платформ:\n",
    "- PS2\n",
    "- X360\n",
    "- PS3\n",
    "- Wii\n",
    "- DS\n",
    "- PS\n",
    "\n",
    "Посмотрим как менялись продажи по годам для каждой из них."
   ]
  },
  {
   "cell_type": "code",
   "execution_count": 16,
   "metadata": {
    "scrolled": false
   },
   "outputs": [
    {
     "data": {
      "image/png": "[encoded data removed]",
      "text/plain": [
       "<Figure size 432x288 with 1 Axes>"
      ]
     },
     "metadata": {
      "needs_background": "light"
     },
     "output_type": "display_data"
    },
    {
     "data": {
      "image/png": "[encoded data removed]",
      "text/plain": [
       "<Figure size 432x288 with 1 Axes>"
      ]
     },
     "metadata": {
      "needs_background": "light"
     },
     "output_type": "display_data"
    },
    {
     "data": {
      "image/png": "[encoded data removed]",
      "text/plain": [
       "<Figure size 432x288 with 1 Axes>"
      ]
     },
     "metadata": {
      "needs_background": "light"
     },
     "output_type": "display_data"
    },
    {
     "data": {
      "image/png": "[encoded data removed]",
      "text/plain": [
       "<Figure size 432x288 with 1 Axes>"
      ]
     },
     "metadata": {
      "needs_background": "light"
     },
     "output_type": "display_data"
    },
    {
     "data": {
      "image/png": "[encoded data removed]",
      "text/plain": [
       "<Figure size 432x288 with 1 Axes>"
      ]
     },
     "metadata": {
      "needs_background": "light"
     },
     "output_type": "display_data"
    },
    {
     "data": {
      "image/png": "[encoded data removed]",
      "text/plain": [
       "<Figure size 432x288 with 1 Axes>"
      ]
     },
     "metadata": {
      "needs_background": "light"
     },
     "output_type": "display_data"
    }
   ],
   "source": [
    "for platform in platform_sales.index[:6]:\n",
    "    (df[df['platform'] == platform]\n",
    "       .pivot_table(index='year_of_release', values='total_sales_mil_dol', aggfunc='sum')\n",
    "       .plot(kind='bar', title=platform))\n",
    "    plt.show()"
   ]
  },
  {
   "cell_type": "markdown",
   "metadata": {},
   "source": [
    "Промежуточные выводы:\n",
    "- PS2: стадия роста - 1 год, стадия активных продаж - 4 года, стадия спада - 5 лет\n",
    "- X360: стадия роста - 2 года, стадия активных продаж - 6 лет, стадия спада - 2 года\n",
    "- PS3: стадия роста - 2 года, стадия активных продаж - 5 лет, стадия спада - 3 года\n",
    "- Wii: стадия роста - 1 год, стадия активных продаж - 4 года, стадия спада - 3 года\n",
    "- DS: стадия роста - 1 года, стадия активных продаж - 5 лет, стадия спада - 2 года\n",
    "- PS: стадия роста - 2 года, стадия активных продаж - 4 года, стадия спада - 2 года\n",
    "\n",
    "Общий вывод:\n",
    "- Cредняя стадия роста - 1.5 года \n",
    "- Средняя активных продаж - 4.6 лет \n",
    "- Средняя стадия спада - 2.8 лет\n",
    "\n",
    "***Актуальным периодом для исследования можно считать 3 года, за него можно увидеть на какой стадии находится платформа.***\n",
    "\n",
    "### Актуальный период"
   ]
  },
  {
   "cell_type": "code",
   "execution_count": 17,
   "metadata": {},
   "outputs": [
    {
     "data": {
      "image/png": "[encoded data removed]",
      "text/plain": [
       "<Figure size 936x576 with 1 Axes>"
      ]
     },
     "metadata": {
      "needs_background": "light"
     },
     "output_type": "display_data"
    }
   ],
   "source": [
    "# Обрезаем датафрейм\n",
    "df_fresh = df.query('year_of_release >= 2014')\n",
    "# Делаем группировку по общей сумме продаж\n",
    "platform_sales_fresh = (df_fresh.pivot_table(index='platform', values='total_sales_mil_dol', aggfunc='sum')\n",
    "                                .sort_values('total_sales_mil_dol', ascending=False))\n",
    "# Строим гистограмму\n",
    "plt.figure(figsize=(13, 8))\n",
    "(sns.barplot(data = platform_sales_fresh, x = platform_sales_fresh.index, y = 'total_sales_mil_dol')\n",
    "    .set(title = 'Продажи по платформам за 2014-2016 гг', xlabel = 'Платформы', ylabel = 'Общие продажи'))\n",
    "plt.show()"
   ]
  },
  {
   "cell_type": "code",
   "execution_count": 18,
   "metadata": {
    "scrolled": false
   },
   "outputs": [
    {
     "data": {
      "image/png": "[encoded data removed]",
      "text/plain": [
       "<Figure size 432x288 with 1 Axes>"
      ]
     },
     "metadata": {
      "needs_background": "light"
     },
     "output_type": "display_data"
    },
    {
     "data": {
      "image/png": "[encoded data removed]",
      "text/plain": [
       "<Figure size 432x288 with 1 Axes>"
      ]
     },
     "metadata": {
      "needs_background": "light"
     },
     "output_type": "display_data"
    },
    {
     "data": {
      "image/png": "[encoded data removed]",
      "text/plain": [
       "<Figure size 432x288 with 1 Axes>"
      ]
     },
     "metadata": {
      "needs_background": "light"
     },
     "output_type": "display_data"
    },
    {
     "data": {
      "image/png": "[encoded data removed]",
      "text/plain": [
       "<Figure size 432x288 with 1 Axes>"
      ]
     },
     "metadata": {
      "needs_background": "light"
     },
     "output_type": "display_data"
    },
    {
     "data": {
      "image/png": "[encoded data removed]",
      "text/plain": [
       "<Figure size 432x288 with 1 Axes>"
      ]
     },
     "metadata": {
      "needs_background": "light"
     },
     "output_type": "display_data"
    },
    {
     "data": {
      "image/png": "[encoded data removed]",
      "text/plain": [
       "<Figure size 432x288 with 1 Axes>"
      ]
     },
     "metadata": {
      "needs_background": "light"
     },
     "output_type": "display_data"
    },
    {
     "data": {
      "image/png": "[encoded data removed]",
      "text/plain": [
       "<Figure size 432x288 with 1 Axes>"
      ]
     },
     "metadata": {
      "needs_background": "light"
     },
     "output_type": "display_data"
    },
    {
     "data": {
      "image/png": "[encoded data removed]",
      "text/plain": [
       "<Figure size 432x288 with 1 Axes>"
      ]
     },
     "metadata": {
      "needs_background": "light"
     },
     "output_type": "display_data"
    },
    {
     "data": {
      "image/png": "[encoded data removed]",
      "text/plain": [
       "<Figure size 432x288 with 1 Axes>"
      ]
     },
     "metadata": {
      "needs_background": "light"
     },
     "output_type": "display_data"
    },
    {
     "data": {
      "image/png": "[encoded data removed]",
      "text/plain": [
       "<Figure size 432x288 with 1 Axes>"
      ]
     },
     "metadata": {
      "needs_background": "light"
     },
     "output_type": "display_data"
    }
   ],
   "source": [
    "# Посмотрим на распределение по годам для каждой из них.\n",
    "for platform in platform_sales_fresh.index:\n",
    "    (df[df['platform'] == platform]\n",
    "       .pivot_table(index='year_of_release', values='total_sales_mil_dol', aggfunc='sum')\n",
    "       .plot(kind='bar', title=platform))\n",
    "    plt.show()"
   ]
  },
  {
   "cell_type": "markdown",
   "metadata": {},
   "source": [
    "Платформы которые находятся в стадии роста или активных продаж (являются потенциально прибыльными):\n",
    "- PS4\n",
    "- XOne\n",
    "\n",
    "\n",
    "Платформы которые теряют свою актуальность:\n",
    "- 3DS\n",
    "- WiiU\n",
    "- PSV\n",
    "\n",
    "Платформы которые полностью потеряли актуальность:\n",
    "- Wii\n",
    "- PSP\n",
    "- X360\n",
    "- PS3\n",
    "\n",
    "\n",
    "Отдельно хочу выделить PC, как платформу, которая имеет несколько пиков продаж и хотя сейчас находится на спаде, возможен новый актуальный пик. Спады продаж этой платформы можно связать с периодами роста других платформ, так например на период сильного спада продаж 2006 года, было несколько крупных платформ - конкурентов: Wii, PS2, X360.\n",
    "\n",
    "### Актуальные платформы"
   ]
  },
  {
   "cell_type": "code",
   "execution_count": 19,
   "metadata": {},
   "outputs": [
    {
     "data": {
      "image/png": "[encoded data removed]",
      "text/plain": [
       "<Figure size 936x576 with 1 Axes>"
      ]
     },
     "metadata": {
      "needs_background": "light"
     },
     "output_type": "display_data"
    },
    {
     "name": "stdout",
     "output_type": "stream",
     "text": [
      "ТАБЛИЦА ХАРАКТЕРНЫХ ЗНАЧЕНИЙ ДЛЯ ПЕРПЕКТИВНЫХ ПЛАТФОРМ\n"
     ]
    },
    {
     "data": {
      "text/html": [
       "<div>\n",
       "<style scoped>\n",
       "    .dataframe tbody tr th:only-of-type {\n",
       "        vertical-align: middle;\n",
       "    }\n",
       "\n",
       "    .dataframe tbody tr th {\n",
       "        vertical-align: top;\n",
       "    }\n",
       "\n",
       "    .dataframe thead th {\n",
       "        text-align: right;\n",
       "    }\n",
       "</style>\n",
       "<table border=\"1\" class=\"dataframe\">\n",
       "  <thead>\n",
       "    <tr style=\"text-align: right;\">\n",
       "      <th></th>\n",
       "      <th>25%</th>\n",
       "      <th>50%</th>\n",
       "      <th>75%</th>\n",
       "      <th>count</th>\n",
       "      <th>max</th>\n",
       "      <th>mean</th>\n",
       "      <th>min</th>\n",
       "      <th>std</th>\n",
       "    </tr>\n",
       "    <tr>\n",
       "      <th>platform</th>\n",
       "      <th></th>\n",
       "      <th></th>\n",
       "      <th></th>\n",
       "      <th></th>\n",
       "      <th></th>\n",
       "      <th></th>\n",
       "      <th></th>\n",
       "      <th></th>\n",
       "    </tr>\n",
       "  </thead>\n",
       "  <tbody>\n",
       "    <tr>\n",
       "      <th>3DS</th>\n",
       "      <td>0.0300</td>\n",
       "      <td>0.090</td>\n",
       "      <td>0.2500</td>\n",
       "      <td>212.0</td>\n",
       "      <td>11.68</td>\n",
       "      <td>0.408868</td>\n",
       "      <td>0.01</td>\n",
       "      <td>1.188368</td>\n",
       "    </tr>\n",
       "    <tr>\n",
       "      <th>PC</th>\n",
       "      <td>0.0200</td>\n",
       "      <td>0.060</td>\n",
       "      <td>0.2000</td>\n",
       "      <td>151.0</td>\n",
       "      <td>3.05</td>\n",
       "      <td>0.179139</td>\n",
       "      <td>0.01</td>\n",
       "      <td>0.329359</td>\n",
       "    </tr>\n",
       "    <tr>\n",
       "      <th>PS4</th>\n",
       "      <td>0.0575</td>\n",
       "      <td>0.185</td>\n",
       "      <td>0.6900</td>\n",
       "      <td>376.0</td>\n",
       "      <td>14.63</td>\n",
       "      <td>0.766356</td>\n",
       "      <td>0.01</td>\n",
       "      <td>1.614969</td>\n",
       "    </tr>\n",
       "    <tr>\n",
       "      <th>PSV</th>\n",
       "      <td>0.0200</td>\n",
       "      <td>0.040</td>\n",
       "      <td>0.0900</td>\n",
       "      <td>295.0</td>\n",
       "      <td>1.96</td>\n",
       "      <td>0.075932</td>\n",
       "      <td>0.01</td>\n",
       "      <td>0.141591</td>\n",
       "    </tr>\n",
       "    <tr>\n",
       "      <th>WiiU</th>\n",
       "      <td>0.0500</td>\n",
       "      <td>0.190</td>\n",
       "      <td>0.5700</td>\n",
       "      <td>73.0</td>\n",
       "      <td>7.09</td>\n",
       "      <td>0.588767</td>\n",
       "      <td>0.01</td>\n",
       "      <td>1.161467</td>\n",
       "    </tr>\n",
       "    <tr>\n",
       "      <th>XOne</th>\n",
       "      <td>0.0500</td>\n",
       "      <td>0.205</td>\n",
       "      <td>0.6325</td>\n",
       "      <td>228.0</td>\n",
       "      <td>7.39</td>\n",
       "      <td>0.615614</td>\n",
       "      <td>0.01</td>\n",
       "      <td>1.046513</td>\n",
       "    </tr>\n",
       "  </tbody>\n",
       "</table>\n",
       "</div>"
      ],
      "text/plain": [
       "             25%    50%     75%  count    max      mean   min       std\n",
       "platform                                                               \n",
       "3DS       0.0300  0.090  0.2500  212.0  11.68  0.408868  0.01  1.188368\n",
       "PC        0.0200  0.060  0.2000  151.0   3.05  0.179139  0.01  0.329359\n",
       "PS4       0.0575  0.185  0.6900  376.0  14.63  0.766356  0.01  1.614969\n",
       "PSV       0.0200  0.040  0.0900  295.0   1.96  0.075932  0.01  0.141591\n",
       "WiiU      0.0500  0.190  0.5700   73.0   7.09  0.588767  0.01  1.161467\n",
       "XOne      0.0500  0.205  0.6325  228.0   7.39  0.615614  0.01  1.046513"
      ]
     },
     "execution_count": 19,
     "metadata": {},
     "output_type": "execute_result"
    }
   ],
   "source": [
    "# Уберем платформы, которые потеряли актуальность\n",
    "df_fresh = df_fresh.query('(platform == \"PS4\") or (platform == \"XOne\") or (platform == \"WiiU\") or (platform == \"PSV\") or (platform == \"3DS\") or (platform == \"PC\")')\n",
    "# Строим диаграмму ящик с усами \n",
    "plt.figure(figsize=(13, 8))\n",
    "(sns.boxplot(data = df_fresh, y = 'total_sales_mil_dol', x='platform')\n",
    "    .set(title = 'Продажи по перспективным платформам за 2014-2016 гг', \n",
    "         xlabel = 'Платформы', \n",
    "         ylabel = 'Общие продажи', \n",
    "         ylim=(0, 2))) # Ставим ограничение, чтобы график был более наглядным, можно убрать, чтобы увидеть выбросы\n",
    "plt.show()\n",
    "\n",
    "print('ТАБЛИЦА ХАРАКТЕРНЫХ ЗНАЧЕНИЙ ДЛЯ ПЕРПЕКТИВНЫХ ПЛАТФОРМ')\n",
    "df_fresh.pivot_table(index='platform', values='total_sales_mil_dol', aggfunc='describe')"
   ]
  },
  {
   "cell_type": "markdown",
   "metadata": {},
   "source": [
    "- Лидерами по продажам являются PS4, XOne и WiiU однако не забываем, что эта платфорама находит на стадии спада.\n",
    "- Платформа 3DS  имеет средние показатели и также находится на стадии спада.\n",
    "- PSV является наимеене предпочтительной платформой, хотя для нее выпускается большое количество игр (2 место после PS4), это может быть от части связано с меньшей ценой за игры, относительно других консолей.\n",
    "- Платформа PC имеет низкие показатели, но ее прибыльность зависит во многом от того на какой стадии находятся другие актуальные платформы.\n",
    "\n",
    "\n",
    "Все платформы имеют выбросы, они могу быть связаны с играми-эксклюзивами для конкретных платформ и играми которые \"выстрелили\". В какой-то степени выбросы также характеризуют платформы, так как эксклюзивы для платформ будут выходить постоянно, но сверх прибыльные проекты сильно искажают данные, поэтому лучше обрезать датафрейм ограничившись проектами до 4 миллионов."
   ]
  },
  {
   "cell_type": "code",
   "execution_count": 20,
   "metadata": {},
   "outputs": [
    {
     "name": "stdout",
     "output_type": "stream",
     "text": [
      "ТАБЛИЦА ХАРАКТЕРНЫХ ЗНАЧЕНИЙ ДЛЯ ПЕРПЕКТИВНЫХ ПЛАТФОРМ ПОСЛЕ ОБРЕЗКИ\n"
     ]
    },
    {
     "data": {
      "text/html": [
       "<div>\n",
       "<style scoped>\n",
       "    .dataframe tbody tr th:only-of-type {\n",
       "        vertical-align: middle;\n",
       "    }\n",
       "\n",
       "    .dataframe tbody tr th {\n",
       "        vertical-align: top;\n",
       "    }\n",
       "\n",
       "    .dataframe thead th {\n",
       "        text-align: right;\n",
       "    }\n",
       "</style>\n",
       "<table border=\"1\" class=\"dataframe\">\n",
       "  <thead>\n",
       "    <tr style=\"text-align: right;\">\n",
       "      <th></th>\n",
       "      <th>25%</th>\n",
       "      <th>50%</th>\n",
       "      <th>75%</th>\n",
       "      <th>count</th>\n",
       "      <th>max</th>\n",
       "      <th>mean</th>\n",
       "      <th>min</th>\n",
       "      <th>std</th>\n",
       "    </tr>\n",
       "    <tr>\n",
       "      <th>platform</th>\n",
       "      <th></th>\n",
       "      <th></th>\n",
       "      <th></th>\n",
       "      <th></th>\n",
       "      <th></th>\n",
       "      <th></th>\n",
       "      <th></th>\n",
       "      <th></th>\n",
       "    </tr>\n",
       "  </thead>\n",
       "  <tbody>\n",
       "    <tr>\n",
       "      <th>3DS</th>\n",
       "      <td>0.03</td>\n",
       "      <td>0.08</td>\n",
       "      <td>0.2400</td>\n",
       "      <td>209.0</td>\n",
       "      <td>3.89</td>\n",
       "      <td>0.288565</td>\n",
       "      <td>0.01</td>\n",
       "      <td>0.586757</td>\n",
       "    </tr>\n",
       "    <tr>\n",
       "      <th>PC</th>\n",
       "      <td>0.02</td>\n",
       "      <td>0.06</td>\n",
       "      <td>0.2000</td>\n",
       "      <td>151.0</td>\n",
       "      <td>3.05</td>\n",
       "      <td>0.179139</td>\n",
       "      <td>0.01</td>\n",
       "      <td>0.329359</td>\n",
       "    </tr>\n",
       "    <tr>\n",
       "      <th>PS4</th>\n",
       "      <td>0.05</td>\n",
       "      <td>0.17</td>\n",
       "      <td>0.6000</td>\n",
       "      <td>359.0</td>\n",
       "      <td>3.97</td>\n",
       "      <td>0.486100</td>\n",
       "      <td>0.01</td>\n",
       "      <td>0.758963</td>\n",
       "    </tr>\n",
       "    <tr>\n",
       "      <th>PSV</th>\n",
       "      <td>0.02</td>\n",
       "      <td>0.04</td>\n",
       "      <td>0.0900</td>\n",
       "      <td>295.0</td>\n",
       "      <td>1.96</td>\n",
       "      <td>0.075932</td>\n",
       "      <td>0.01</td>\n",
       "      <td>0.141591</td>\n",
       "    </tr>\n",
       "    <tr>\n",
       "      <th>WiiU</th>\n",
       "      <td>0.05</td>\n",
       "      <td>0.17</td>\n",
       "      <td>0.5175</td>\n",
       "      <td>70.0</td>\n",
       "      <td>3.21</td>\n",
       "      <td>0.379714</td>\n",
       "      <td>0.01</td>\n",
       "      <td>0.519785</td>\n",
       "    </tr>\n",
       "    <tr>\n",
       "      <th>XOne</th>\n",
       "      <td>0.05</td>\n",
       "      <td>0.18</td>\n",
       "      <td>0.5950</td>\n",
       "      <td>223.0</td>\n",
       "      <td>3.66</td>\n",
       "      <td>0.509103</td>\n",
       "      <td>0.01</td>\n",
       "      <td>0.756497</td>\n",
       "    </tr>\n",
       "  </tbody>\n",
       "</table>\n",
       "</div>"
      ],
      "text/plain": [
       "           25%   50%     75%  count   max      mean   min       std\n",
       "platform                                                           \n",
       "3DS       0.03  0.08  0.2400  209.0  3.89  0.288565  0.01  0.586757\n",
       "PC        0.02  0.06  0.2000  151.0  3.05  0.179139  0.01  0.329359\n",
       "PS4       0.05  0.17  0.6000  359.0  3.97  0.486100  0.01  0.758963\n",
       "PSV       0.02  0.04  0.0900  295.0  1.96  0.075932  0.01  0.141591\n",
       "WiiU      0.05  0.17  0.5175   70.0  3.21  0.379714  0.01  0.519785\n",
       "XOne      0.05  0.18  0.5950  223.0  3.66  0.509103  0.01  0.756497"
      ]
     },
     "execution_count": 20,
     "metadata": {},
     "output_type": "execute_result"
    }
   ],
   "source": [
    "df_fresh_b4 = df_fresh[df_fresh['total_sales_mil_dol'] <= 4]\n",
    "\n",
    "print('ТАБЛИЦА ХАРАКТЕРНЫХ ЗНАЧЕНИЙ ДЛЯ ПЕРПЕКТИВНЫХ ПЛАТФОРМ ПОСЛЕ ОБРЕЗКИ')\n",
    "df_fresh_b4.pivot_table(index='platform', values='total_sales_mil_dol', aggfunc='describe')"
   ]
  },
  {
   "cell_type": "markdown",
   "metadata": {},
   "source": [
    "### Зависимость продаж от оценок пользователей и критиков.\n",
    "\n",
    "Возьмем несколько популярных, в разные периоды времени платформ, чтобы посмотреть зависимоть дохода от оценки критиков или пользователей"
   ]
  },
  {
   "cell_type": "code",
   "execution_count": 21,
   "metadata": {},
   "outputs": [],
   "source": [
    "# Пишем функцию для диграммы зависимости цены от оценки критиков и пользователей.\n",
    "def score_sales_diag(name):\n",
    "    platform = df.query('platform == @name')\n",
    "    print(f'ПЛАТФОРМА {name}')\n",
    "    plt.figure(figsize=(14,6))\n",
    "    platform.plot(kind='scatter', x='critic_score', y='total_sales_mil_dol', \n",
    "                  ax=plt.subplot(1,2,1), xlabel = 'Прибыль', ylabel = 'Оценки критиков', alpha=0.4)\n",
    "    platform.plot(kind='scatter', x='user_score', y='total_sales_mil_dol', \n",
    "                  ax=plt.subplot(1,2,2), xlabel = 'Прибыль', ylabel = 'Оценки пользователей', alpha=0.4)\n",
    "    plt.show()\n",
    "    print('КОЭФФИЦИЕНТЫ КОРРЕЛЯЦИИ')\n",
    "    print(platform[['critic_score', 'user_score', 'total_sales_mil_dol']].corr()['total_sales_mil_dol'])"
   ]
  },
  {
   "cell_type": "code",
   "execution_count": 22,
   "metadata": {},
   "outputs": [
    {
     "name": "stdout",
     "output_type": "stream",
     "text": [
      "ПЛАТФОРМА PS4\n"
     ]
    },
    {
     "data": {
      "image/png": "[encoded data removed]",
      "text/plain": [
       "<Figure size 1008x432 with 2 Axes>"
      ]
     },
     "metadata": {
      "needs_background": "light"
     },
     "output_type": "display_data"
    },
    {
     "name": "stdout",
     "output_type": "stream",
     "text": [
      "КОЭФФИЦИЕНТЫ КОРРЕЛЯЦИИ\n",
      "critic_score           0.406568\n",
      "user_score            -0.031957\n",
      "total_sales_mil_dol    1.000000\n",
      "Name: total_sales_mil_dol, dtype: float64\n"
     ]
    }
   ],
   "source": [
    "score_sales_diag('PS4')"
   ]
  },
  {
   "cell_type": "code",
   "execution_count": 23,
   "metadata": {},
   "outputs": [
    {
     "name": "stdout",
     "output_type": "stream",
     "text": [
      "ПЛАТФОРМА PS3\n"
     ]
    },
    {
     "data": {
      "image/png": "[encoded data removed]",
      "text/plain": [
       "<Figure size 1008x432 with 2 Axes>"
      ]
     },
     "metadata": {
      "needs_background": "light"
     },
     "output_type": "display_data"
    },
    {
     "name": "stdout",
     "output_type": "stream",
     "text": [
      "КОЭФФИЦИЕНТЫ КОРРЕЛЯЦИИ\n",
      "critic_score           0.433497\n",
      "user_score             0.127565\n",
      "total_sales_mil_dol    1.000000\n",
      "Name: total_sales_mil_dol, dtype: float64\n"
     ]
    }
   ],
   "source": [
    "score_sales_diag('PS3')"
   ]
  },
  {
   "cell_type": "code",
   "execution_count": 24,
   "metadata": {},
   "outputs": [
    {
     "name": "stdout",
     "output_type": "stream",
     "text": [
      "ПЛАТФОРМА PS2\n"
     ]
    },
    {
     "data": {
      "image/png": "[encoded data removed]",
      "text/plain": [
       "<Figure size 1008x432 with 2 Axes>"
      ]
     },
     "metadata": {
      "needs_background": "light"
     },
     "output_type": "display_data"
    },
    {
     "name": "stdout",
     "output_type": "stream",
     "text": [
      "КОЭФФИЦИЕНТЫ КОРРЕЛЯЦИИ\n",
      "critic_score           0.395648\n",
      "user_score             0.177384\n",
      "total_sales_mil_dol    1.000000\n",
      "Name: total_sales_mil_dol, dtype: float64\n"
     ]
    }
   ],
   "source": [
    "score_sales_diag('PS2')"
   ]
  },
  {
   "cell_type": "code",
   "execution_count": 25,
   "metadata": {},
   "outputs": [
    {
     "name": "stdout",
     "output_type": "stream",
     "text": [
      "ПЛАТФОРМА PS\n"
     ]
    },
    {
     "data": {
      "image/png": "[encoded data removed]",
      "text/plain": [
       "<Figure size 1008x432 with 2 Axes>"
      ]
     },
     "metadata": {
      "needs_background": "light"
     },
     "output_type": "display_data"
    },
    {
     "name": "stdout",
     "output_type": "stream",
     "text": [
      "КОЭФФИЦИЕНТЫ КОРРЕЛЯЦИИ\n",
      "critic_score           0.446690\n",
      "user_score             0.300078\n",
      "total_sales_mil_dol    1.000000\n",
      "Name: total_sales_mil_dol, dtype: float64\n"
     ]
    }
   ],
   "source": [
    "score_sales_diag('PS')"
   ]
  },
  {
   "cell_type": "code",
   "execution_count": 26,
   "metadata": {},
   "outputs": [
    {
     "name": "stdout",
     "output_type": "stream",
     "text": [
      "ПЛАТФОРМА X360\n"
     ]
    },
    {
     "data": {
      "image/png": "[encoded data removed]",
      "text/plain": [
       "<Figure size 1008x432 with 2 Axes>"
      ]
     },
     "metadata": {
      "needs_background": "light"
     },
     "output_type": "display_data"
    },
    {
     "name": "stdout",
     "output_type": "stream",
     "text": [
      "КОЭФФИЦИЕНТЫ КОРРЕЛЯЦИИ\n",
      "critic_score           0.393122\n",
      "user_score             0.116096\n",
      "total_sales_mil_dol    1.000000\n",
      "Name: total_sales_mil_dol, dtype: float64\n"
     ]
    }
   ],
   "source": [
    "score_sales_diag('X360')"
   ]
  },
  {
   "cell_type": "code",
   "execution_count": 27,
   "metadata": {},
   "outputs": [
    {
     "name": "stdout",
     "output_type": "stream",
     "text": [
      "ПЛАТФОРМА XOne\n"
     ]
    },
    {
     "data": {
      "image/png": "[encoded data removed]",
      "text/plain": [
       "<Figure size 1008x432 with 2 Axes>"
      ]
     },
     "metadata": {
      "needs_background": "light"
     },
     "output_type": "display_data"
    },
    {
     "name": "stdout",
     "output_type": "stream",
     "text": [
      "КОЭФФИЦИЕНТЫ КОРРЕЛЯЦИИ\n",
      "critic_score           0.416998\n",
      "user_score            -0.068925\n",
      "total_sales_mil_dol    1.000000\n",
      "Name: total_sales_mil_dol, dtype: float64\n"
     ]
    }
   ],
   "source": [
    "score_sales_diag('XOne')"
   ]
  },
  {
   "cell_type": "markdown",
   "metadata": {},
   "source": [
    "**Вывод:** В результате анализа мы видим, что коэффициенты корреляций относительно невысокие, однако все же по критикам корреляция куда выше, нежели по пользователям.\n",
    "\n",
    "\n",
    "### Зависимость цены от жанра"
   ]
  },
  {
   "cell_type": "code",
   "execution_count": 28,
   "metadata": {},
   "outputs": [
    {
     "data": {
      "image/png": "[encoded data removed]",
      "text/plain": [
       "<Figure size 936x576 with 1 Axes>"
      ]
     },
     "metadata": {
      "needs_background": "light"
     },
     "output_type": "display_data"
    },
    {
     "data": {
      "image/png": "[encoded data removed]",
      "text/plain": [
       "<Figure size 936x576 with 1 Axes>"
      ]
     },
     "metadata": {
      "needs_background": "light"
     },
     "output_type": "display_data"
    },
    {
     "name": "stdout",
     "output_type": "stream",
     "text": [
      "ТАБЛИЦА ХАРАКТЕРНЫХ ЗНАЧЕНИЙ ДЛЯ ЖАНРОВ ИГР\n"
     ]
    },
    {
     "data": {
      "text/html": [
       "<div>\n",
       "<style scoped>\n",
       "    .dataframe tbody tr th:only-of-type {\n",
       "        vertical-align: middle;\n",
       "    }\n",
       "\n",
       "    .dataframe tbody tr th {\n",
       "        vertical-align: top;\n",
       "    }\n",
       "\n",
       "    .dataframe thead th {\n",
       "        text-align: right;\n",
       "    }\n",
       "</style>\n",
       "<table border=\"1\" class=\"dataframe\">\n",
       "  <thead>\n",
       "    <tr style=\"text-align: right;\">\n",
       "      <th></th>\n",
       "      <th>count</th>\n",
       "      <th>std</th>\n",
       "      <th>median</th>\n",
       "      <th>mean</th>\n",
       "    </tr>\n",
       "    <tr>\n",
       "      <th>genre</th>\n",
       "      <th></th>\n",
       "      <th></th>\n",
       "      <th></th>\n",
       "      <th></th>\n",
       "    </tr>\n",
       "  </thead>\n",
       "  <tbody>\n",
       "    <tr>\n",
       "      <th>Shooter</th>\n",
       "      <td>87</td>\n",
       "      <td>0.945495</td>\n",
       "      <td>0.430</td>\n",
       "      <td>0.800575</td>\n",
       "    </tr>\n",
       "    <tr>\n",
       "      <th>Sports</th>\n",
       "      <td>101</td>\n",
       "      <td>0.815456</td>\n",
       "      <td>0.180</td>\n",
       "      <td>0.551485</td>\n",
       "    </tr>\n",
       "    <tr>\n",
       "      <th>Platform</th>\n",
       "      <td>33</td>\n",
       "      <td>0.762131</td>\n",
       "      <td>0.150</td>\n",
       "      <td>0.519394</td>\n",
       "    </tr>\n",
       "    <tr>\n",
       "      <th>Racing</th>\n",
       "      <td>52</td>\n",
       "      <td>0.573679</td>\n",
       "      <td>0.085</td>\n",
       "      <td>0.342115</td>\n",
       "    </tr>\n",
       "    <tr>\n",
       "      <th>Fighting</th>\n",
       "      <td>36</td>\n",
       "      <td>0.551836</td>\n",
       "      <td>0.115</td>\n",
       "      <td>0.340278</td>\n",
       "    </tr>\n",
       "    <tr>\n",
       "      <th>Role-Playing</th>\n",
       "      <td>183</td>\n",
       "      <td>0.607337</td>\n",
       "      <td>0.110</td>\n",
       "      <td>0.337923</td>\n",
       "    </tr>\n",
       "    <tr>\n",
       "      <th>Simulation</th>\n",
       "      <td>40</td>\n",
       "      <td>0.676415</td>\n",
       "      <td>0.100</td>\n",
       "      <td>0.308250</td>\n",
       "    </tr>\n",
       "    <tr>\n",
       "      <th>Action</th>\n",
       "      <td>490</td>\n",
       "      <td>0.551136</td>\n",
       "      <td>0.080</td>\n",
       "      <td>0.277673</td>\n",
       "    </tr>\n",
       "    <tr>\n",
       "      <th>Misc</th>\n",
       "      <td>88</td>\n",
       "      <td>0.422760</td>\n",
       "      <td>0.085</td>\n",
       "      <td>0.251250</td>\n",
       "    </tr>\n",
       "    <tr>\n",
       "      <th>Puzzle</th>\n",
       "      <td>13</td>\n",
       "      <td>0.331848</td>\n",
       "      <td>0.050</td>\n",
       "      <td>0.166923</td>\n",
       "    </tr>\n",
       "    <tr>\n",
       "      <th>Strategy</th>\n",
       "      <td>36</td>\n",
       "      <td>0.119821</td>\n",
       "      <td>0.055</td>\n",
       "      <td>0.108333</td>\n",
       "    </tr>\n",
       "    <tr>\n",
       "      <th>Adventure</th>\n",
       "      <td>148</td>\n",
       "      <td>0.208501</td>\n",
       "      <td>0.030</td>\n",
       "      <td>0.090811</td>\n",
       "    </tr>\n",
       "  </tbody>\n",
       "</table>\n",
       "</div>"
      ],
      "text/plain": [
       "              count       std  median      mean\n",
       "genre                                          \n",
       "Shooter          87  0.945495   0.430  0.800575\n",
       "Sports          101  0.815456   0.180  0.551485\n",
       "Platform         33  0.762131   0.150  0.519394\n",
       "Racing           52  0.573679   0.085  0.342115\n",
       "Fighting         36  0.551836   0.115  0.340278\n",
       "Role-Playing    183  0.607337   0.110  0.337923\n",
       "Simulation       40  0.676415   0.100  0.308250\n",
       "Action          490  0.551136   0.080  0.277673\n",
       "Misc             88  0.422760   0.085  0.251250\n",
       "Puzzle           13  0.331848   0.050  0.166923\n",
       "Strategy         36  0.119821   0.055  0.108333\n",
       "Adventure       148  0.208501   0.030  0.090811"
      ]
     },
     "execution_count": 28,
     "metadata": {},
     "output_type": "execute_result"
    }
   ],
   "source": [
    "# Группируем по жанру\n",
    "genre_sales_fresh = (df_fresh_b4.pivot_table(index='genre', values='total_sales_mil_dol', aggfunc='sum')\n",
    "                             .sort_values('total_sales_mil_dol', ascending=False))\n",
    "# Строим гистограмму\n",
    "plt.figure(figsize=(13, 8))\n",
    "(sns.barplot(data = genre_sales_fresh, x = genre_sales_fresh.index, y = 'total_sales_mil_dol')\n",
    "    .set(title = 'Продажи по жанрам за 2014-2016 гг', xlabel = 'Платформы', ylabel = 'Общие продажи'))\n",
    "plt.show()\n",
    "# Строим диаграмму ящик с усами\n",
    "plt.figure(figsize=(13, 8))\n",
    "(sns.boxplot(data = df_fresh_b4, y = 'total_sales_mil_dol', x='genre')\n",
    "    .set(title = 'Продажи по жанрам за 2014-2016 гг', \n",
    "         xlabel = 'Платформы', \n",
    "         ylabel = 'Общие продажи',\n",
    "         ylim=(0, 1.25)))\n",
    "plt.show()\n",
    "\n",
    "print('ТАБЛИЦА ХАРАКТЕРНЫХ ЗНАЧЕНИЙ ДЛЯ ЖАНРОВ ИГР')\n",
    "# Строк много,  чтобы было легче ориентироваться вместо corr используем отдельные функции\n",
    "tab_corr = df_fresh_b4.pivot_table(index='genre', values='total_sales_mil_dol', aggfunc=['count', 'std', 'median', 'mean'])   \n",
    "tab_corr.columns = ['count', 'std', 'median', 'mean']\n",
    "tab_corr.sort_values('mean', ascending=False)"
   ]
  },
  {
   "cell_type": "markdown",
   "metadata": {},
   "source": [
    "Выбросы могут быть связаны с играми \"выстрелившими в своем жанре\".\n",
    "\n",
    "\n",
    "**Разделим жанры на 3 сегмента прибыльности:**\n",
    "1. Высокий:\n",
    "   - Shooter -- Бесспорный лидер, лучше соотношение прибыльности и на втором месте по количеству общих продаж.\t\n",
    "   - Sports -- Хорошие показатели прибыльности, меньшее стандартное отклонение в сравнении с Шутерами, но меньшее число продаж.\n",
    "   - Role-Playing -- Игр этого жанра выходит в 2 раза больше, чем первых двух, еще меньше стандартное отклонение, но прибыль и общие продажи ниже.\n",
    "   \n",
    "2. Средний: \n",
    "   - Platform, Racing, Fighting, Simulation -- Имеют примерно одинаковые показатели, отличаются низким количествоим игр в целом.\n",
    "   - Misc - имеет схожие показатели с другими представителями этого сегмента, однако прибыльность значительно ниже, больший доход достигается большим количеством выпущенных игр 80 против 40 у вышеперечисленных.\n",
    "   - Action - Лидер по количеству продаж, в основном за счет количества выпущенных игр, большое количество выбросов говорит о том, что жанр в большей степени зависит от того, на сколько популярным получится отдельно взятый проект.\n",
    "\n",
    "3. Низкий\n",
    "   - Puzzle, Strategy - самые низкие показатели прибыльности и продаж.\n",
    "   - Adventure - имеет также низкие показатели, больший доход достигается большим количеством игр (148 против 20 у вышеперечисленных).\n",
    "   \n",
    "***Большое количество игр для отдельного жанра, даже при отсутствии большей прибыльности, может говорить о том, что такие игры возможно легче в производстве и требуют меньше затрат.***\n",
    "\n",
    "## Портрет пользователя каждого региона\n",
    "### Платформы"
   ]
  },
  {
   "cell_type": "code",
   "execution_count": 29,
   "metadata": {
    "scrolled": false
   },
   "outputs": [
    {
     "data": {
      "image/png": "[encoded data removed]",
      "text/plain": [
       "<Figure size 1296x432 with 3 Axes>"
      ]
     },
     "metadata": {},
     "output_type": "display_data"
    }
   ],
   "source": [
    "# Задаем список регионов\n",
    "countries = df_fresh_b4.columns[4:7]\n",
    "\n",
    "fig, axs = plt.subplots(1, 3, figsize=(18, 6))\n",
    "fig.suptitle('ТОП-5 платформ в регионах')\n",
    "for i in range(3):\n",
    "  # 5 самых продающих платформ\n",
    "    df_i = (df_fresh_b4.groupby('platform')[countries[i]].sum().reset_index()\n",
    "                       .sort_values(countries[i], ascending = False, ignore_index = True).head(5))\n",
    "  # Занесем все остальные продажи в Other_platforms\n",
    "    df_i = df_i.append({'platform': 'Other_platforms', \n",
    "                       countries[i]: abs(df_fresh_b4[countries[i]].sum() - df_i[countries[i]].sum())}, \n",
    "                       ignore_index= True)\n",
    "  # Строим круговую диаграму      \n",
    "    axs[i].pie(df_i[countries[i]], labels = df_i['platform'], autopct='%.1f%%')\n",
    "  # Зададим название региона.\n",
    "    axs[i].set_title(df_i.columns[1].split('_')[0].upper())\n",
    "plt.show()"
   ]
  },
  {
   "cell_type": "markdown",
   "metadata": {},
   "source": [
    "Северная америка:\n",
    "- лидирующие позиции занимают PS4 и XOne и при примерно одинаковых долях занимают 80% рынка.\n",
    "- значительно меньшие, равнозначные доли у консолей WiiU и 3DS (по 6.9%)\n",
    "- и наименьшую долю занимает PC (4.1%)\n",
    "\n",
    "Европа:\n",
    "- лидирует PS4 (52%), и также довольно бальшая доля XOne (23.6%)\n",
    "- меньшую долю занимает PC (10.8%)\n",
    "- и малыми долями представлены консоли WiiU и 3DS (менее 6%)\n",
    "\n",
    "Япония:\n",
    "- лидирует 3DS (53.5%)\n",
    "- 40% рынка распределились примерно равными долями между консолями PS4 и PSV\n",
    "- и малую часть занимает WiiU (5.5%)\n",
    "\n",
    "**Общий вывод:**\n",
    "Для Северной америки и Европы картина схожая - лидерамим является PS4 и XOne, остальные консоли обладают значительно меньшими долями, в Японии предпочитают консоли местного производства, лидерами являются 3DS и коносоли от Sony.\n",
    "\n",
    "### Жанры"
   ]
  },
  {
   "cell_type": "code",
   "execution_count": 30,
   "metadata": {},
   "outputs": [
    {
     "data": {
      "image/png": "[encoded data removed]",
      "text/plain": [
       "<Figure size 1080x360 with 3 Axes>"
      ]
     },
     "metadata": {},
     "output_type": "display_data"
    }
   ],
   "source": [
    "fig, axs = plt.subplots(1, 3, figsize=(15, 5))\n",
    "fig.suptitle('ТОП-5 жанров в регионах')\n",
    "for i in range(3):\n",
    "  # 5 самых продающих жанров\n",
    "    df_i = (df_fresh_b4.groupby('genre')[countries[i]].sum().reset_index()\n",
    "                       .sort_values(countries[i], ascending = False, ignore_index = True).head(5))\n",
    "    \n",
    "  # Занесем все остальыне жанры в Other_genre\n",
    "    df_i = df_i.append({'genre': 'Other_genre', \n",
    "                       countries[i]: df_fresh_b4[countries[i]].sum() - df_i[countries[i]].sum()}, \n",
    "                       ignore_index= True)\n",
    "  # Строим круговую диаграму  \n",
    "    axs[i].pie(df_i[countries[i]], labels = df_i['genre'], autopct='%.1f%%')\n",
    "    axs[i].set_title(df_i.columns[1].split('_')[0].upper())\n",
    "plt.show()"
   ]
  },
  {
   "cell_type": "markdown",
   "metadata": {},
   "source": [
    "- Игры жанра Action лидируют занимая более 30% рынка для каждого региона.\n",
    "- По остальным жанрам в Европе и Северной америке схожая ситуация - выделяются: Shooter, Sports, Role-Plaing с небольшими отличиями.\n",
    "- В японии жанр Role-Plaing евялется лидирующем на уровне с Action и занимает чуть менее 70% рынка.\n",
    "\n",
    "### Зависимость продаж от возрастного рейтинга в регионах"
   ]
  },
  {
   "cell_type": "code",
   "execution_count": 31,
   "metadata": {},
   "outputs": [
    {
     "data": {
      "image/png": "[encoded data removed]",
      "text/plain": [
       "<Figure size 432x288 with 1 Axes>"
      ]
     },
     "metadata": {
      "needs_background": "light"
     },
     "output_type": "display_data"
    },
    {
     "name": "stdout",
     "output_type": "stream",
     "text": [
      "КОЭФФИЦИЕНТЫ КОРРЕЛЯЦИИ\n",
      "age_rating          1.000000\n",
      "na_sales_mil_dol    0.081811\n",
      "Name: age_rating, dtype: float64\n"
     ]
    },
    {
     "data": {
      "image/png": "[encoded data removed]",
      "text/plain": [
       "<Figure size 432x288 with 1 Axes>"
      ]
     },
     "metadata": {
      "needs_background": "light"
     },
     "output_type": "display_data"
    },
    {
     "name": "stdout",
     "output_type": "stream",
     "text": [
      "КОЭФФИЦИЕНТЫ КОРРЕЛЯЦИИ\n",
      "age_rating          1.000000\n",
      "eu_sales_mil_dol    0.120247\n",
      "Name: age_rating, dtype: float64\n"
     ]
    },
    {
     "data": {
      "image/png": "[encoded data removed]",
      "text/plain": [
       "<Figure size 432x288 with 1 Axes>"
      ]
     },
     "metadata": {
      "needs_background": "light"
     },
     "output_type": "display_data"
    },
    {
     "name": "stdout",
     "output_type": "stream",
     "text": [
      "КОЭФФИЦИЕНТЫ КОРРЕЛЯЦИИ\n",
      "age_rating          1.000000\n",
      "jp_sales_mil_dol   -0.025339\n",
      "Name: age_rating, dtype: float64\n"
     ]
    }
   ],
   "source": [
    "# Функция которая переводит рейтинг в возраст\n",
    "def age_rating(row):\n",
    "    if row == 'E':\n",
    "        return(6)\n",
    "    elif row == 'E10+':\n",
    "        return(10)\n",
    "    elif row == 'T':\n",
    "        return(13)\n",
    "    elif row == 'M':\n",
    "        return(17)\n",
    "    else:\n",
    "        return(0)\n",
    "# Создаем столбец с возрастом для дальнейшего вычисления коэффициентов корреляции.\n",
    "df_fresh_b4 = df_fresh_b4.copy()\n",
    "df_fresh_b4['age_rating'] = df_fresh_b4['rating'].apply(age_rating)\n",
    "\n",
    "# Создаем диаграммы для каждого региона\n",
    "for i in range(3):\n",
    "    # Группируем по рейтингу\n",
    "    esrb_sales = (df_fresh_b4.pivot_table(index='rating', values=countries[i], aggfunc='sum')\n",
    "                             .sort_values(countries[i], ascending=False))\n",
    "\n",
    "    (sns.barplot(data = esrb_sales, x = esrb_sales.index, y = countries[i])\n",
    "        .set(title = countries[i], xlabel = 'Рейтинг', ylabel = 'Продажи'))\n",
    "    plt.show()\n",
    "    # Вычисляем коэффициенты корреляции, убирая при этом нулевые значения\n",
    "    print('КОЭФФИЦИЕНТЫ КОРРЕЛЯЦИИ')\n",
    "    print(df_fresh_b4[df_fresh_b4['age_rating'] != 0][['age_rating', countries[i]]].corr()['age_rating'])"
   ]
  },
  {
   "cell_type": "code",
   "execution_count": 32,
   "metadata": {},
   "outputs": [
    {
     "data": {
      "text/html": [
       "<div>\n",
       "<style scoped>\n",
       "    .dataframe tbody tr th:only-of-type {\n",
       "        vertical-align: middle;\n",
       "    }\n",
       "\n",
       "    .dataframe tbody tr th {\n",
       "        vertical-align: top;\n",
       "    }\n",
       "\n",
       "    .dataframe thead th {\n",
       "        text-align: right;\n",
       "    }\n",
       "</style>\n",
       "<table border=\"1\" class=\"dataframe\">\n",
       "  <thead>\n",
       "    <tr style=\"text-align: right;\">\n",
       "      <th></th>\n",
       "      <th>name</th>\n",
       "      <th>platform</th>\n",
       "      <th>year_of_release</th>\n",
       "      <th>genre</th>\n",
       "      <th>na_sales_mil_dol</th>\n",
       "      <th>eu_sales_mil_dol</th>\n",
       "      <th>jp_sales_mil_dol</th>\n",
       "      <th>other_sales</th>\n",
       "      <th>critic_score</th>\n",
       "      <th>user_score</th>\n",
       "      <th>rating</th>\n",
       "      <th>total_sales_mil_dol</th>\n",
       "      <th>age_rating</th>\n",
       "    </tr>\n",
       "  </thead>\n",
       "  <tbody>\n",
       "    <tr>\n",
       "      <th>506</th>\n",
       "      <td>Yokai Watch 2 Ganso/Honke</td>\n",
       "      <td>3DS</td>\n",
       "      <td>2014</td>\n",
       "      <td>Role-Playing</td>\n",
       "      <td>0.09</td>\n",
       "      <td>0.00</td>\n",
       "      <td>3.18</td>\n",
       "      <td>0.01</td>\n",
       "      <td>NaN</td>\n",
       "      <td>NaN</td>\n",
       "      <td>Unknown</td>\n",
       "      <td>3.28</td>\n",
       "      <td>0</td>\n",
       "    </tr>\n",
       "    <tr>\n",
       "      <th>498</th>\n",
       "      <td>Monster Hunter X</td>\n",
       "      <td>3DS</td>\n",
       "      <td>2015</td>\n",
       "      <td>Action</td>\n",
       "      <td>0.27</td>\n",
       "      <td>0.21</td>\n",
       "      <td>2.79</td>\n",
       "      <td>0.05</td>\n",
       "      <td>NaN</td>\n",
       "      <td>NaN</td>\n",
       "      <td>Unknown</td>\n",
       "      <td>3.32</td>\n",
       "      <td>0</td>\n",
       "    </tr>\n",
       "    <tr>\n",
       "      <th>699</th>\n",
       "      <td>Yokai Watch 2 Shinuchi</td>\n",
       "      <td>3DS</td>\n",
       "      <td>2014</td>\n",
       "      <td>Role-Playing</td>\n",
       "      <td>0.00</td>\n",
       "      <td>0.00</td>\n",
       "      <td>2.68</td>\n",
       "      <td>0.00</td>\n",
       "      <td>NaN</td>\n",
       "      <td>NaN</td>\n",
       "      <td>Unknown</td>\n",
       "      <td>2.68</td>\n",
       "      <td>0</td>\n",
       "    </tr>\n",
       "    <tr>\n",
       "      <th>842</th>\n",
       "      <td>Yokai Watch Busters</td>\n",
       "      <td>3DS</td>\n",
       "      <td>2015</td>\n",
       "      <td>Action</td>\n",
       "      <td>0.00</td>\n",
       "      <td>0.00</td>\n",
       "      <td>2.29</td>\n",
       "      <td>0.00</td>\n",
       "      <td>NaN</td>\n",
       "      <td>NaN</td>\n",
       "      <td>Unknown</td>\n",
       "      <td>2.29</td>\n",
       "      <td>0</td>\n",
       "    </tr>\n",
       "    <tr>\n",
       "      <th>1759</th>\n",
       "      <td>Yokai Watch 3</td>\n",
       "      <td>3DS</td>\n",
       "      <td>2016</td>\n",
       "      <td>Action</td>\n",
       "      <td>0.00</td>\n",
       "      <td>0.00</td>\n",
       "      <td>1.33</td>\n",
       "      <td>0.00</td>\n",
       "      <td>NaN</td>\n",
       "      <td>NaN</td>\n",
       "      <td>Unknown</td>\n",
       "      <td>1.33</td>\n",
       "      <td>0</td>\n",
       "    </tr>\n",
       "    <tr>\n",
       "      <th>1080</th>\n",
       "      <td>Minecraft</td>\n",
       "      <td>PSV</td>\n",
       "      <td>2014</td>\n",
       "      <td>Misc</td>\n",
       "      <td>0.18</td>\n",
       "      <td>0.64</td>\n",
       "      <td>0.90</td>\n",
       "      <td>0.24</td>\n",
       "      <td>NaN</td>\n",
       "      <td>NaN</td>\n",
       "      <td>Unknown</td>\n",
       "      <td>1.96</td>\n",
       "      <td>0</td>\n",
       "    </tr>\n",
       "    <tr>\n",
       "      <th>2804</th>\n",
       "      <td>Monster Strike 3DS</td>\n",
       "      <td>3DS</td>\n",
       "      <td>2015</td>\n",
       "      <td>Action</td>\n",
       "      <td>0.00</td>\n",
       "      <td>0.00</td>\n",
       "      <td>0.87</td>\n",
       "      <td>0.00</td>\n",
       "      <td>NaN</td>\n",
       "      <td>NaN</td>\n",
       "      <td>Unknown</td>\n",
       "      <td>0.87</td>\n",
       "      <td>0</td>\n",
       "    </tr>\n",
       "    <tr>\n",
       "      <th>3042</th>\n",
       "      <td>Dragon Quest Monsters 2</td>\n",
       "      <td>3DS</td>\n",
       "      <td>2014</td>\n",
       "      <td>Role-Playing</td>\n",
       "      <td>0.00</td>\n",
       "      <td>0.00</td>\n",
       "      <td>0.79</td>\n",
       "      <td>0.00</td>\n",
       "      <td>NaN</td>\n",
       "      <td>NaN</td>\n",
       "      <td>Unknown</td>\n",
       "      <td>0.79</td>\n",
       "      <td>0</td>\n",
       "    </tr>\n",
       "    <tr>\n",
       "      <th>3209</th>\n",
       "      <td>Rhythm Heaven: The Best+</td>\n",
       "      <td>3DS</td>\n",
       "      <td>2015</td>\n",
       "      <td>Misc</td>\n",
       "      <td>0.00</td>\n",
       "      <td>0.03</td>\n",
       "      <td>0.72</td>\n",
       "      <td>0.00</td>\n",
       "      <td>NaN</td>\n",
       "      <td>NaN</td>\n",
       "      <td>Unknown</td>\n",
       "      <td>0.75</td>\n",
       "      <td>0</td>\n",
       "    </tr>\n",
       "    <tr>\n",
       "      <th>3694</th>\n",
       "      <td>Dragon Quest Monsters Joker 3</td>\n",
       "      <td>3DS</td>\n",
       "      <td>2016</td>\n",
       "      <td>Role-Playing</td>\n",
       "      <td>0.00</td>\n",
       "      <td>0.00</td>\n",
       "      <td>0.63</td>\n",
       "      <td>0.00</td>\n",
       "      <td>NaN</td>\n",
       "      <td>NaN</td>\n",
       "      <td>Unknown</td>\n",
       "      <td>0.63</td>\n",
       "      <td>0</td>\n",
       "    </tr>\n",
       "    <tr>\n",
       "      <th>4160</th>\n",
       "      <td>Yokai Sangokushi</td>\n",
       "      <td>3DS</td>\n",
       "      <td>2016</td>\n",
       "      <td>Action</td>\n",
       "      <td>0.00</td>\n",
       "      <td>0.00</td>\n",
       "      <td>0.56</td>\n",
       "      <td>0.00</td>\n",
       "      <td>NaN</td>\n",
       "      <td>NaN</td>\n",
       "      <td>Unknown</td>\n",
       "      <td>0.56</td>\n",
       "      <td>0</td>\n",
       "    </tr>\n",
       "    <tr>\n",
       "      <th>1315</th>\n",
       "      <td>Fire Emblem Fates</td>\n",
       "      <td>3DS</td>\n",
       "      <td>2015</td>\n",
       "      <td>Role-Playing</td>\n",
       "      <td>0.81</td>\n",
       "      <td>0.23</td>\n",
       "      <td>0.52</td>\n",
       "      <td>0.11</td>\n",
       "      <td>NaN</td>\n",
       "      <td>NaN</td>\n",
       "      <td>Unknown</td>\n",
       "      <td>1.67</td>\n",
       "      <td>0</td>\n",
       "    </tr>\n",
       "    <tr>\n",
       "      <th>5768</th>\n",
       "      <td>Persona 5</td>\n",
       "      <td>PS4</td>\n",
       "      <td>2016</td>\n",
       "      <td>Role-Playing</td>\n",
       "      <td>0.00</td>\n",
       "      <td>0.00</td>\n",
       "      <td>0.37</td>\n",
       "      <td>0.00</td>\n",
       "      <td>NaN</td>\n",
       "      <td>NaN</td>\n",
       "      <td>Unknown</td>\n",
       "      <td>0.37</td>\n",
       "      <td>0</td>\n",
       "    </tr>\n",
       "    <tr>\n",
       "      <th>3225</th>\n",
       "      <td>Dragon Quest Heroes: The World's Tree Woe and ...</td>\n",
       "      <td>PS4</td>\n",
       "      <td>2015</td>\n",
       "      <td>Action</td>\n",
       "      <td>0.17</td>\n",
       "      <td>0.13</td>\n",
       "      <td>0.37</td>\n",
       "      <td>0.06</td>\n",
       "      <td>NaN</td>\n",
       "      <td>NaN</td>\n",
       "      <td>Unknown</td>\n",
       "      <td>0.73</td>\n",
       "      <td>0</td>\n",
       "    </tr>\n",
       "    <tr>\n",
       "      <th>4677</th>\n",
       "      <td>Puzzle &amp; Dragons Z + Super Mario Bros. Edition</td>\n",
       "      <td>3DS</td>\n",
       "      <td>2015</td>\n",
       "      <td>Puzzle</td>\n",
       "      <td>0.06</td>\n",
       "      <td>0.07</td>\n",
       "      <td>0.34</td>\n",
       "      <td>0.01</td>\n",
       "      <td>NaN</td>\n",
       "      <td>NaN</td>\n",
       "      <td>Unknown</td>\n",
       "      <td>0.48</td>\n",
       "      <td>0</td>\n",
       "    </tr>\n",
       "  </tbody>\n",
       "</table>\n",
       "</div>"
      ],
      "text/plain": [
       "                                                   name platform  \\\n",
       "506                           Yokai Watch 2 Ganso/Honke      3DS   \n",
       "498                                    Monster Hunter X      3DS   \n",
       "699                              Yokai Watch 2 Shinuchi      3DS   \n",
       "842                                 Yokai Watch Busters      3DS   \n",
       "1759                                      Yokai Watch 3      3DS   \n",
       "1080                                          Minecraft      PSV   \n",
       "2804                                 Monster Strike 3DS      3DS   \n",
       "3042                            Dragon Quest Monsters 2      3DS   \n",
       "3209                           Rhythm Heaven: The Best+      3DS   \n",
       "3694                      Dragon Quest Monsters Joker 3      3DS   \n",
       "4160                                   Yokai Sangokushi      3DS   \n",
       "1315                                  Fire Emblem Fates      3DS   \n",
       "5768                                          Persona 5      PS4   \n",
       "3225  Dragon Quest Heroes: The World's Tree Woe and ...      PS4   \n",
       "4677     Puzzle & Dragons Z + Super Mario Bros. Edition      3DS   \n",
       "\n",
       "      year_of_release         genre  na_sales_mil_dol  eu_sales_mil_dol  \\\n",
       "506              2014  Role-Playing              0.09              0.00   \n",
       "498              2015        Action              0.27              0.21   \n",
       "699              2014  Role-Playing              0.00              0.00   \n",
       "842              2015        Action              0.00              0.00   \n",
       "1759             2016        Action              0.00              0.00   \n",
       "1080             2014          Misc              0.18              0.64   \n",
       "2804             2015        Action              0.00              0.00   \n",
       "3042             2014  Role-Playing              0.00              0.00   \n",
       "3209             2015          Misc              0.00              0.03   \n",
       "3694             2016  Role-Playing              0.00              0.00   \n",
       "4160             2016        Action              0.00              0.00   \n",
       "1315             2015  Role-Playing              0.81              0.23   \n",
       "5768             2016  Role-Playing              0.00              0.00   \n",
       "3225             2015        Action              0.17              0.13   \n",
       "4677             2015        Puzzle              0.06              0.07   \n",
       "\n",
       "      jp_sales_mil_dol  other_sales  critic_score  user_score   rating  \\\n",
       "506               3.18         0.01           NaN         NaN  Unknown   \n",
       "498               2.79         0.05           NaN         NaN  Unknown   \n",
       "699               2.68         0.00           NaN         NaN  Unknown   \n",
       "842               2.29         0.00           NaN         NaN  Unknown   \n",
       "1759              1.33         0.00           NaN         NaN  Unknown   \n",
       "1080              0.90         0.24           NaN         NaN  Unknown   \n",
       "2804              0.87         0.00           NaN         NaN  Unknown   \n",
       "3042              0.79         0.00           NaN         NaN  Unknown   \n",
       "3209              0.72         0.00           NaN         NaN  Unknown   \n",
       "3694              0.63         0.00           NaN         NaN  Unknown   \n",
       "4160              0.56         0.00           NaN         NaN  Unknown   \n",
       "1315              0.52         0.11           NaN         NaN  Unknown   \n",
       "5768              0.37         0.00           NaN         NaN  Unknown   \n",
       "3225              0.37         0.06           NaN         NaN  Unknown   \n",
       "4677              0.34         0.01           NaN         NaN  Unknown   \n",
       "\n",
       "      total_sales_mil_dol  age_rating  \n",
       "506                  3.28           0  \n",
       "498                  3.32           0  \n",
       "699                  2.68           0  \n",
       "842                  2.29           0  \n",
       "1759                 1.33           0  \n",
       "1080                 1.96           0  \n",
       "2804                 0.87           0  \n",
       "3042                 0.79           0  \n",
       "3209                 0.75           0  \n",
       "3694                 0.63           0  \n",
       "4160                 0.56           0  \n",
       "1315                 1.67           0  \n",
       "5768                 0.37           0  \n",
       "3225                 0.73           0  \n",
       "4677                 0.48           0  "
      ]
     },
     "execution_count": 32,
     "metadata": {},
     "output_type": "execute_result"
    }
   ],
   "source": [
    "df_fresh_b4[df_fresh_b4['rating'] == 'Unknown'].sort_values(by='jp_sales_mil_dol', ascending=False).head(15)"
   ]
  },
  {
   "cell_type": "markdown",
   "metadata": {},
   "source": [
    "\n",
    "- По Америке и Европе схожая ситуация наиболее популярным является рейтинг M(17+), потом следует E(6+), затем T(13+) и E10(10+) \n",
    "- Самые прибыльные игры в Японии представлены платформой 3DS, которая популярна там же, а организация ESRB - американская. Возможно в Японии есть своя организация, которая присваивает играм возростной рейтинг, поэтому этих данных нет в датафрейме и поэтому рейтинг Unknow имеет лидирующие позиции.\n",
    "\n",
    "\n",
    "**Вывод:** В результате анализа мы видим, что коэффициенты корреляций относительно невысокие, четкой зависимости продаж от рейтинга не наблюдается."
   ]
  },
  {
   "cell_type": "markdown",
   "metadata": {},
   "source": [
    "## Проверяем гипотезы\n",
    "\n",
    "### Средние пользовательские рейтинги платформ Xbox One и PC одинаковые\n",
    "**H0**: Средние пользовательские рейтинги платформ Xbox One и PC одинаковые.\n",
    "\n",
    "**H1**: Средние пользовательские рейтинги платформ Xbox One и PC различаются."
   ]
  },
  {
   "cell_type": "code",
   "execution_count": 33,
   "metadata": {},
   "outputs": [
    {
     "name": "stdout",
     "output_type": "stream",
     "text": [
      "p-значение:  0.10445889699999576\n",
      "Опровергнуть нулевую гипотезу нельзя\n"
     ]
    }
   ],
   "source": [
    "sample_1 = df_fresh_b4[df_fresh_b4['platform'] == 'XOne']['user_score'].dropna()\n",
    "sample_2 = df_fresh_b4[df_fresh_b4['platform'] == 'PC']['user_score'].dropna()\n",
    "results = st.ttest_ind(sample_1, sample_2)\n",
    "alpha = 0.05\n",
    "\n",
    "print('p-значение: ', results.pvalue)\n",
    "if results.pvalue < alpha:\n",
    "    print('Принимаем альтернативную гипотезу')\n",
    "else:\n",
    "    print('Опровергнуть нулевую гипотезу нельзя')"
   ]
  },
  {
   "cell_type": "markdown",
   "metadata": {},
   "source": [
    "### Средние пользовательские рейтинги жанров Action и Sports разные\n",
    "**H0**: Средние пользовательские рейтинги жанров Action и Sports одинаковые.\n",
    "\n",
    "**H1**: Средние пользовательские рейтинги жанров Action и Sports различаются."
   ]
  },
  {
   "cell_type": "code",
   "execution_count": 34,
   "metadata": {},
   "outputs": [
    {
     "name": "stdout",
     "output_type": "stream",
     "text": [
      "p-значение:  9.355290037745116e-10\n",
      "Принимаем альтернативную гипотезу\n"
     ]
    }
   ],
   "source": [
    "sample_1 = df_fresh_b4[df_fresh_b4['genre'] == 'Action']['user_score'].dropna()\n",
    "sample_2 = df_fresh_b4[df_fresh_b4['genre'] == 'Sports']['user_score'].dropna()\n",
    "results = st.ttest_ind(sample_1, sample_2)\n",
    "alpha = 0.05\n",
    "\n",
    "print('p-значение: ', results.pvalue)\n",
    "if results.pvalue < alpha:\n",
    "    print('Принимаем альтернативную гипотезу')\n",
    "else:\n",
    "    print('Опровергнуть нулевую гипотезу нельзя')"
   ]
  },
  {
   "cell_type": "markdown",
   "metadata": {},
   "source": [
    "## Общий вывод"
   ]
  },
  {
   "cell_type": "markdown",
   "metadata": {},
   "source": [
    "1. **Актуальные платформы:**\n",
    "   - На данный момент наиболее актуальными являются платформы PS4 и XOne\n",
    "   - Платформы 3DS, WiiU теряют свою актуальность, но заслуживают внимания.\n",
    "   - Платформа PC всегда должна рассматриваться не в отрыве от других платформ:\n",
    "     на момент 2016г PS4 и XOne находятся на стадии Активных продаж, поэтому ожидать пиковых значений от PC не стоит\n",
    "\n",
    "\n",
    "2. **Продажи в некоторой степени зависят от оценок критиков (коэф.корреляции примерно 0.4), и не зависят от оценок пользователей**\n",
    "\n",
    "\n",
    "3. **Актуальные жанры:**\n",
    "   - Наибольшую прибыльность показали жанры: Shooter, Sports, Role-Playing\n",
    "   - Наибольшее количество игр в жанрах: Action, Adventure, Role-Playing\n",
    "\n",
    "\n",
    "4. **Портрет пользователя:**\n",
    "   \n",
    "   ***Северная америка:***\n",
    "   - Основные консоли -- PS4(41%) и XOne (39%)\n",
    "   - Популярные жанры -- Action(30%) , Shooter(28%) , Sports(17%) , Role-plaing(11%)\n",
    "   \n",
    "   ***Европа:***\n",
    "   - Основные консоли -- PS4(52%), XOne (24%) и PC(11%)\n",
    "   - Популярные жанры -- Action(33%) , Shooter(20%) , Sports(10%) , Role-plaing(11%)\n",
    "   \n",
    "   ***Япония:***\n",
    "   - Основные консоли -- 3DS(53%), PS4 (19%) и PSV(21%)\n",
    "   - Популярные жанры -- Action(36%) , Misc(8%), Role-plaing(34%)\n",
    "\n",
    "\n",
    "5. **Четкой зависимости продаж от возрастного рейтинга не наблюдается**\n",
    "\n",
    "\n",
    "6. **Гипотезы:**\n",
    "   - Средние пользовательские рейтинги жанров Action и Sports различаются.\n",
    "   - Средние пользовательские рейтинги платформ Xbox One и PC одинаковые.\n",
    "   \n"
   ]
  }
 ],
 "metadata": {
  "ExecuteTimeLog": [
   {
    "duration": 1273,
    "start_time": "2022-05-09T16:08:14.852Z"
   },
   {
    "duration": 50,
    "start_time": "2022-05-09T16:09:51.216Z"
   },
   {
    "duration": 18,
    "start_time": "2022-05-09T16:10:31.817Z"
   },
   {
    "duration": 18,
    "start_time": "2022-05-09T16:11:41.234Z"
   },
   {
    "duration": 7,
    "start_time": "2022-05-09T16:12:19.969Z"
   },
   {
    "duration": 4,
    "start_time": "2022-05-09T16:12:22.177Z"
   },
   {
    "duration": 4,
    "start_time": "2022-05-09T16:12:56.241Z"
   },
   {
    "duration": 7,
    "start_time": "2022-05-09T16:13:31.713Z"
   },
   {
    "duration": 94,
    "start_time": "2022-05-09T16:18:51.098Z"
   },
   {
    "duration": 105,
    "start_time": "2022-05-09T16:18:55.818Z"
   },
   {
    "duration": 17,
    "start_time": "2022-05-09T16:18:56.979Z"
   },
   {
    "duration": 6,
    "start_time": "2022-05-09T16:18:57.987Z"
   },
   {
    "duration": 5,
    "start_time": "2022-05-09T16:18:58.642Z"
   },
   {
    "duration": 161,
    "start_time": "2022-05-09T16:18:59.365Z"
   },
   {
    "duration": 348,
    "start_time": "2022-05-09T16:19:03.378Z"
   },
   {
    "duration": 808,
    "start_time": "2022-05-09T16:22:24.035Z"
   },
   {
    "duration": 866,
    "start_time": "2022-05-09T16:23:07.430Z"
   },
   {
    "duration": 14,
    "start_time": "2022-05-09T16:23:39.059Z"
   },
   {
    "duration": 9,
    "start_time": "2022-05-09T16:24:04.387Z"
   },
   {
    "duration": 76,
    "start_time": "2022-05-09T16:24:26.597Z"
   },
   {
    "duration": 8,
    "start_time": "2022-05-09T16:25:24.867Z"
   },
   {
    "duration": 20,
    "start_time": "2022-05-09T16:25:52.611Z"
   },
   {
    "duration": 96,
    "start_time": "2022-05-09T16:26:09.011Z"
   },
   {
    "duration": 23,
    "start_time": "2022-05-09T16:27:42.564Z"
   },
   {
    "duration": 29,
    "start_time": "2022-05-09T16:29:03.412Z"
   },
   {
    "duration": 188,
    "start_time": "2022-05-09T16:29:31.156Z"
   },
   {
    "duration": 304,
    "start_time": "2022-05-09T16:29:51.604Z"
   },
   {
    "duration": 94,
    "start_time": "2022-05-09T16:30:07.588Z"
   },
   {
    "duration": 1057,
    "start_time": "2022-05-09T16:30:20.486Z"
   },
   {
    "duration": 182,
    "start_time": "2022-05-09T16:30:45.397Z"
   },
   {
    "duration": 1602,
    "start_time": "2022-05-09T16:30:55.605Z"
   },
   {
    "duration": 262,
    "start_time": "2022-05-09T16:31:34.325Z"
   },
   {
    "duration": 245,
    "start_time": "2022-05-09T16:31:42.494Z"
   },
   {
    "duration": 253,
    "start_time": "2022-05-09T16:31:48.359Z"
   },
   {
    "duration": 44,
    "start_time": "2022-05-09T16:32:20.484Z"
   },
   {
    "duration": 5,
    "start_time": "2022-05-09T16:32:59.686Z"
   },
   {
    "duration": 240,
    "start_time": "2022-05-09T16:33:05.717Z"
   },
   {
    "duration": 241,
    "start_time": "2022-05-09T16:33:12.244Z"
   },
   {
    "duration": 254,
    "start_time": "2022-05-09T16:33:18.853Z"
   },
   {
    "duration": 238,
    "start_time": "2022-05-09T16:33:24.277Z"
   },
   {
    "duration": 245,
    "start_time": "2022-05-09T16:33:39.145Z"
   },
   {
    "duration": 232,
    "start_time": "2022-05-09T16:33:48.229Z"
   },
   {
    "duration": 602,
    "start_time": "2022-05-09T16:34:36.677Z"
   },
   {
    "duration": 7,
    "start_time": "2022-05-09T16:39:46.470Z"
   },
   {
    "duration": 273,
    "start_time": "2022-05-09T16:40:04.630Z"
   },
   {
    "duration": 283,
    "start_time": "2022-05-09T16:40:29.808Z"
   },
   {
    "duration": 381,
    "start_time": "2022-05-09T16:40:55.062Z"
   },
   {
    "duration": 10,
    "start_time": "2022-05-09T16:42:32.999Z"
   },
   {
    "duration": 10,
    "start_time": "2022-05-09T16:42:49.464Z"
   },
   {
    "duration": 1298,
    "start_time": "2022-05-09T17:32:09.791Z"
   },
   {
    "duration": 18,
    "start_time": "2022-05-09T17:32:11.091Z"
   },
   {
    "duration": 7,
    "start_time": "2022-05-09T17:32:11.111Z"
   },
   {
    "duration": 10,
    "start_time": "2022-05-09T17:32:11.120Z"
   },
   {
    "duration": 1242,
    "start_time": "2022-05-09T17:32:11.132Z"
   },
   {
    "duration": 17,
    "start_time": "2022-05-09T17:32:12.375Z"
   },
   {
    "duration": 22,
    "start_time": "2022-05-09T17:32:12.394Z"
   },
   {
    "duration": 15,
    "start_time": "2022-05-09T17:32:12.417Z"
   },
   {
    "duration": 53,
    "start_time": "2022-05-09T17:32:12.434Z"
   },
   {
    "duration": 17,
    "start_time": "2022-05-09T17:32:12.489Z"
   },
   {
    "duration": 35,
    "start_time": "2022-05-09T17:32:12.508Z"
   },
   {
    "duration": 213,
    "start_time": "2022-05-09T17:32:12.574Z"
   },
   {
    "duration": 344,
    "start_time": "2022-05-09T17:32:12.788Z"
   },
   {
    "duration": 1154,
    "start_time": "2022-05-09T17:32:13.136Z"
   },
   {
    "duration": 240,
    "start_time": "2022-05-09T17:32:14.295Z"
   },
   {
    "duration": 1899,
    "start_time": "2022-05-09T17:32:14.538Z"
   },
   {
    "duration": 272,
    "start_time": "2022-05-09T17:32:16.439Z"
   },
   {
    "duration": 66,
    "start_time": "2022-05-09T17:32:16.713Z"
   },
   {
    "duration": 6,
    "start_time": "2022-05-09T17:32:16.781Z"
   },
   {
    "duration": 284,
    "start_time": "2022-05-09T17:32:16.789Z"
   },
   {
    "duration": 268,
    "start_time": "2022-05-09T17:32:17.075Z"
   },
   {
    "duration": 306,
    "start_time": "2022-05-09T17:32:17.345Z"
   },
   {
    "duration": 251,
    "start_time": "2022-05-09T17:32:17.653Z"
   },
   {
    "duration": 297,
    "start_time": "2022-05-09T17:32:17.905Z"
   },
   {
    "duration": 273,
    "start_time": "2022-05-09T17:32:18.204Z"
   },
   {
    "duration": 642,
    "start_time": "2022-05-09T17:32:18.479Z"
   },
   {
    "duration": 317,
    "start_time": "2022-05-09T17:32:19.122Z"
   },
   {
    "duration": 308,
    "start_time": "2022-05-09T17:32:19.441Z"
   },
   {
    "duration": 448,
    "start_time": "2022-05-09T17:32:19.750Z"
   },
   {
    "duration": 9,
    "start_time": "2022-05-09T17:32:20.200Z"
   },
   {
    "duration": 12,
    "start_time": "2022-05-09T17:32:20.211Z"
   },
   {
    "duration": 143,
    "start_time": "2022-05-10T09:28:00.983Z"
   },
   {
    "duration": 41,
    "start_time": "2022-05-10T09:29:14.869Z"
   },
   {
    "duration": 1360,
    "start_time": "2022-05-10T09:29:20.415Z"
   },
   {
    "duration": 19,
    "start_time": "2022-05-10T09:29:21.777Z"
   },
   {
    "duration": 65,
    "start_time": "2022-05-10T09:29:21.797Z"
   },
   {
    "duration": 9,
    "start_time": "2022-05-10T09:29:21.873Z"
   },
   {
    "duration": 6,
    "start_time": "2022-05-10T09:29:21.884Z"
   },
   {
    "duration": 967,
    "start_time": "2022-05-10T09:29:21.892Z"
   },
   {
    "duration": 12,
    "start_time": "2022-05-10T09:29:22.861Z"
   },
   {
    "duration": 15,
    "start_time": "2022-05-10T09:29:22.875Z"
   },
   {
    "duration": 11,
    "start_time": "2022-05-10T09:29:22.891Z"
   },
   {
    "duration": 24,
    "start_time": "2022-05-10T09:29:22.904Z"
   },
   {
    "duration": 20,
    "start_time": "2022-05-10T09:29:22.930Z"
   },
   {
    "duration": 43,
    "start_time": "2022-05-10T09:29:22.974Z"
   },
   {
    "duration": 214,
    "start_time": "2022-05-10T09:29:23.018Z"
   },
   {
    "duration": 313,
    "start_time": "2022-05-10T09:29:23.235Z"
   },
   {
    "duration": 1062,
    "start_time": "2022-05-10T09:29:23.550Z"
   },
   {
    "duration": 184,
    "start_time": "2022-05-10T09:29:24.614Z"
   },
   {
    "duration": 1611,
    "start_time": "2022-05-10T09:29:24.800Z"
   },
   {
    "duration": 262,
    "start_time": "2022-05-10T09:29:26.413Z"
   },
   {
    "duration": 44,
    "start_time": "2022-05-10T09:29:26.677Z"
   },
   {
    "duration": 5,
    "start_time": "2022-05-10T09:29:26.722Z"
   },
   {
    "duration": 264,
    "start_time": "2022-05-10T09:29:26.729Z"
   },
   {
    "duration": 245,
    "start_time": "2022-05-10T09:29:26.994Z"
   },
   {
    "duration": 308,
    "start_time": "2022-05-10T09:29:27.240Z"
   },
   {
    "duration": 247,
    "start_time": "2022-05-10T09:29:27.550Z"
   },
   {
    "duration": 280,
    "start_time": "2022-05-10T09:29:27.799Z"
   },
   {
    "duration": 256,
    "start_time": "2022-05-10T09:29:28.081Z"
   },
   {
    "duration": 635,
    "start_time": "2022-05-10T09:29:28.338Z"
   },
   {
    "duration": 305,
    "start_time": "2022-05-10T09:29:28.975Z"
   },
   {
    "duration": 308,
    "start_time": "2022-05-10T09:29:29.283Z"
   },
   {
    "duration": 409,
    "start_time": "2022-05-10T09:29:29.593Z"
   },
   {
    "duration": 10,
    "start_time": "2022-05-10T09:29:30.004Z"
   },
   {
    "duration": 20,
    "start_time": "2022-05-10T09:29:30.016Z"
   },
   {
    "duration": 111,
    "start_time": "2022-05-10T09:30:28.872Z"
   },
   {
    "duration": 7,
    "start_time": "2022-05-10T09:33:03.023Z"
   },
   {
    "duration": 5,
    "start_time": "2022-05-10T09:33:17.398Z"
   },
   {
    "duration": 135,
    "start_time": "2022-05-10T09:59:16.417Z"
   },
   {
    "duration": 132,
    "start_time": "2022-05-10T10:05:01.663Z"
   },
   {
    "duration": 2198,
    "start_time": "2022-05-10T10:48:08.924Z"
   },
   {
    "duration": 108,
    "start_time": "2022-05-10T10:48:11.126Z"
   },
   {
    "duration": 24,
    "start_time": "2022-05-10T10:48:11.237Z"
   },
   {
    "duration": 107,
    "start_time": "2022-05-10T10:48:11.263Z"
   },
   {
    "duration": 10,
    "start_time": "2022-05-10T10:48:11.374Z"
   },
   {
    "duration": 21,
    "start_time": "2022-05-10T10:48:11.398Z"
   },
   {
    "duration": 1194,
    "start_time": "2022-05-10T10:48:11.421Z"
   },
   {
    "duration": 24,
    "start_time": "2022-05-10T10:48:12.618Z"
   },
   {
    "duration": 12,
    "start_time": "2022-05-10T10:48:12.644Z"
   },
   {
    "duration": 45,
    "start_time": "2022-05-10T10:48:12.659Z"
   },
   {
    "duration": 33,
    "start_time": "2022-05-10T10:48:12.707Z"
   },
   {
    "duration": 63,
    "start_time": "2022-05-10T10:48:12.743Z"
   },
   {
    "duration": 71,
    "start_time": "2022-05-10T10:48:12.809Z"
   },
   {
    "duration": 375,
    "start_time": "2022-05-10T10:48:12.897Z"
   },
   {
    "duration": 597,
    "start_time": "2022-05-10T10:48:13.274Z"
   },
   {
    "duration": 1856,
    "start_time": "2022-05-10T10:48:13.874Z"
   },
   {
    "duration": 373,
    "start_time": "2022-05-10T10:48:15.732Z"
   },
   {
    "duration": 2896,
    "start_time": "2022-05-10T10:48:16.108Z"
   },
   {
    "duration": 469,
    "start_time": "2022-05-10T10:48:19.008Z"
   },
   {
    "duration": 86,
    "start_time": "2022-05-10T10:48:19.480Z"
   },
   {
    "duration": 34,
    "start_time": "2022-05-10T10:48:19.569Z"
   },
   {
    "duration": 515,
    "start_time": "2022-05-10T10:48:19.606Z"
   },
   {
    "duration": 506,
    "start_time": "2022-05-10T10:48:20.123Z"
   },
   {
    "duration": 448,
    "start_time": "2022-05-10T10:48:20.632Z"
   },
   {
    "duration": 454,
    "start_time": "2022-05-10T10:48:21.082Z"
   },
   {
    "duration": 444,
    "start_time": "2022-05-10T10:48:21.539Z"
   },
   {
    "duration": 458,
    "start_time": "2022-05-10T10:48:21.994Z"
   },
   {
    "duration": 1096,
    "start_time": "2022-05-10T10:48:22.455Z"
   },
   {
    "duration": 698,
    "start_time": "2022-05-10T10:48:23.554Z"
   },
   {
    "duration": 569,
    "start_time": "2022-05-10T10:48:24.255Z"
   },
   {
    "duration": 696,
    "start_time": "2022-05-10T10:48:24.826Z"
   },
   {
    "duration": 13,
    "start_time": "2022-05-10T10:48:25.525Z"
   },
   {
    "duration": 18,
    "start_time": "2022-05-10T10:48:25.541Z"
   },
   {
    "duration": 106,
    "start_time": "2022-05-10T10:50:11.209Z"
   },
   {
    "duration": 104,
    "start_time": "2022-05-10T10:50:57.689Z"
   },
   {
    "duration": 74,
    "start_time": "2022-05-10T10:52:43.932Z"
   },
   {
    "duration": 237,
    "start_time": "2022-05-10T10:53:12.857Z"
   },
   {
    "duration": 87,
    "start_time": "2022-05-10T10:53:24.058Z"
   },
   {
    "duration": 103,
    "start_time": "2022-05-10T10:53:32.346Z"
   },
   {
    "duration": 115,
    "start_time": "2022-05-10T10:53:37.114Z"
   },
   {
    "duration": 88,
    "start_time": "2022-05-10T10:53:43.965Z"
   },
   {
    "duration": 70,
    "start_time": "2022-05-10T10:53:57.176Z"
   },
   {
    "duration": 85,
    "start_time": "2022-05-10T10:54:41.371Z"
   },
   {
    "duration": 185,
    "start_time": "2022-05-10T11:04:25.019Z"
   },
   {
    "duration": 2198,
    "start_time": "2022-05-10T11:04:35.180Z"
   },
   {
    "duration": 91,
    "start_time": "2022-05-10T11:04:37.382Z"
   },
   {
    "duration": 30,
    "start_time": "2022-05-10T11:04:37.475Z"
   },
   {
    "duration": 93,
    "start_time": "2022-05-10T11:04:37.507Z"
   },
   {
    "duration": 9,
    "start_time": "2022-05-10T11:04:37.603Z"
   },
   {
    "duration": 23,
    "start_time": "2022-05-10T11:04:37.615Z"
   },
   {
    "duration": 1265,
    "start_time": "2022-05-10T11:04:37.640Z"
   },
   {
    "duration": 19,
    "start_time": "2022-05-10T11:04:38.908Z"
   },
   {
    "duration": 16,
    "start_time": "2022-05-10T11:04:38.929Z"
   },
   {
    "duration": 13,
    "start_time": "2022-05-10T11:04:38.949Z"
   },
   {
    "duration": 58,
    "start_time": "2022-05-10T11:04:38.965Z"
   },
   {
    "duration": 23,
    "start_time": "2022-05-10T11:04:39.025Z"
   },
   {
    "duration": 113,
    "start_time": "2022-05-10T11:04:39.051Z"
   },
   {
    "duration": 334,
    "start_time": "2022-05-10T11:04:39.166Z"
   },
   {
    "duration": 518,
    "start_time": "2022-05-10T11:04:39.502Z"
   },
   {
    "duration": 1590,
    "start_time": "2022-05-10T11:04:40.022Z"
   },
   {
    "duration": 324,
    "start_time": "2022-05-10T11:04:41.614Z"
   },
   {
    "duration": 3463,
    "start_time": "2022-05-10T11:04:41.940Z"
   },
   {
    "duration": 640,
    "start_time": "2022-05-10T11:04:45.407Z"
   },
   {
    "duration": 86,
    "start_time": "2022-05-10T11:04:46.050Z"
   },
   {
    "duration": 8,
    "start_time": "2022-05-10T11:04:46.139Z"
   },
   {
    "duration": 444,
    "start_time": "2022-05-10T11:04:46.150Z"
   },
   {
    "duration": 391,
    "start_time": "2022-05-10T11:04:46.596Z"
   },
   {
    "duration": 422,
    "start_time": "2022-05-10T11:04:46.993Z"
   },
   {
    "duration": 412,
    "start_time": "2022-05-10T11:04:47.418Z"
   },
   {
    "duration": 431,
    "start_time": "2022-05-10T11:04:47.832Z"
   },
   {
    "duration": 640,
    "start_time": "2022-05-10T11:04:48.266Z"
   },
   {
    "duration": 1437,
    "start_time": "2022-05-10T11:04:48.912Z"
   },
   {
    "duration": 745,
    "start_time": "2022-05-10T11:04:50.352Z"
   },
   {
    "duration": 478,
    "start_time": "2022-05-10T11:04:51.100Z"
   },
   {
    "duration": 209,
    "start_time": "2022-05-10T11:04:51.581Z"
   },
   {
    "duration": 0,
    "start_time": "2022-05-10T11:04:51.793Z"
   },
   {
    "duration": 0,
    "start_time": "2022-05-10T11:04:51.794Z"
   },
   {
    "duration": 694,
    "start_time": "2022-05-10T11:05:26.617Z"
   },
   {
    "duration": 26,
    "start_time": "2022-05-10T11:09:15.793Z"
   },
   {
    "duration": 19,
    "start_time": "2022-05-10T11:14:46.691Z"
   },
   {
    "duration": 15,
    "start_time": "2022-05-10T11:16:24.540Z"
   },
   {
    "duration": 47,
    "start_time": "2022-05-10T11:16:33.901Z"
   },
   {
    "duration": 47,
    "start_time": "2022-05-10T11:17:23.103Z"
   },
   {
    "duration": 33,
    "start_time": "2022-05-10T11:17:58.061Z"
   },
   {
    "duration": 51,
    "start_time": "2022-05-10T11:18:35.821Z"
   },
   {
    "duration": 43,
    "start_time": "2022-05-10T11:18:38.828Z"
   },
   {
    "duration": 32,
    "start_time": "2022-05-10T11:19:24.605Z"
   },
   {
    "duration": 30,
    "start_time": "2022-05-10T11:19:31.244Z"
   },
   {
    "duration": 9,
    "start_time": "2022-05-10T11:32:46.430Z"
   },
   {
    "duration": 1614,
    "start_time": "2022-05-10T11:32:52.955Z"
   },
   {
    "duration": 91,
    "start_time": "2022-05-10T11:32:54.571Z"
   },
   {
    "duration": 37,
    "start_time": "2022-05-10T11:32:54.664Z"
   },
   {
    "duration": 73,
    "start_time": "2022-05-10T11:32:54.705Z"
   },
   {
    "duration": 10,
    "start_time": "2022-05-10T11:32:54.794Z"
   },
   {
    "duration": 18,
    "start_time": "2022-05-10T11:32:54.806Z"
   },
   {
    "duration": 966,
    "start_time": "2022-05-10T11:32:54.827Z"
   },
   {
    "duration": 21,
    "start_time": "2022-05-10T11:32:55.795Z"
   },
   {
    "duration": 17,
    "start_time": "2022-05-10T11:32:55.819Z"
   },
   {
    "duration": 10,
    "start_time": "2022-05-10T11:32:55.840Z"
   },
   {
    "duration": 61,
    "start_time": "2022-05-10T11:32:55.853Z"
   },
   {
    "duration": 24,
    "start_time": "2022-05-10T11:32:55.916Z"
   },
   {
    "duration": 119,
    "start_time": "2022-05-10T11:32:55.942Z"
   },
   {
    "duration": 346,
    "start_time": "2022-05-10T11:32:56.064Z"
   },
   {
    "duration": 541,
    "start_time": "2022-05-10T11:32:56.413Z"
   },
   {
    "duration": 1718,
    "start_time": "2022-05-10T11:32:56.957Z"
   },
   {
    "duration": 319,
    "start_time": "2022-05-10T11:32:58.677Z"
   },
   {
    "duration": 2663,
    "start_time": "2022-05-10T11:32:58.999Z"
   },
   {
    "duration": 610,
    "start_time": "2022-05-10T11:33:01.664Z"
   },
   {
    "duration": 71,
    "start_time": "2022-05-10T11:33:02.292Z"
   },
   {
    "duration": 28,
    "start_time": "2022-05-10T11:33:02.365Z"
   },
   {
    "duration": 622,
    "start_time": "2022-05-10T11:33:02.396Z"
   },
   {
    "duration": 426,
    "start_time": "2022-05-10T11:33:03.020Z"
   },
   {
    "duration": 482,
    "start_time": "2022-05-10T11:33:03.448Z"
   },
   {
    "duration": 547,
    "start_time": "2022-05-10T11:33:03.934Z"
   },
   {
    "duration": 689,
    "start_time": "2022-05-10T11:33:04.492Z"
   },
   {
    "duration": 617,
    "start_time": "2022-05-10T11:33:05.183Z"
   },
   {
    "duration": 1440,
    "start_time": "2022-05-10T11:33:05.807Z"
   },
   {
    "duration": 678,
    "start_time": "2022-05-10T11:33:07.250Z"
   },
   {
    "duration": 676,
    "start_time": "2022-05-10T11:33:07.930Z"
   },
   {
    "duration": 886,
    "start_time": "2022-05-10T11:33:08.609Z"
   },
   {
    "duration": 43,
    "start_time": "2022-05-10T11:33:09.498Z"
   },
   {
    "duration": 14,
    "start_time": "2022-05-10T11:33:09.543Z"
   },
   {
    "duration": 14,
    "start_time": "2022-05-10T11:33:09.592Z"
   },
   {
    "duration": 1879,
    "start_time": "2022-05-10T16:29:08.004Z"
   },
   {
    "duration": 98,
    "start_time": "2022-05-10T16:29:09.886Z"
   },
   {
    "duration": 29,
    "start_time": "2022-05-10T16:29:09.986Z"
   },
   {
    "duration": 102,
    "start_time": "2022-05-10T16:29:10.020Z"
   },
   {
    "duration": 10,
    "start_time": "2022-05-10T16:29:10.124Z"
   },
   {
    "duration": 10,
    "start_time": "2022-05-10T16:29:10.136Z"
   },
   {
    "duration": 1461,
    "start_time": "2022-05-10T16:29:10.149Z"
   },
   {
    "duration": 20,
    "start_time": "2022-05-10T16:29:11.613Z"
   },
   {
    "duration": 12,
    "start_time": "2022-05-10T16:29:11.635Z"
   },
   {
    "duration": 9,
    "start_time": "2022-05-10T16:29:11.651Z"
   },
   {
    "duration": 35,
    "start_time": "2022-05-10T16:29:11.694Z"
   },
   {
    "duration": 32,
    "start_time": "2022-05-10T16:29:11.731Z"
   },
   {
    "duration": 110,
    "start_time": "2022-05-10T16:29:11.794Z"
   },
   {
    "duration": 352,
    "start_time": "2022-05-10T16:29:11.907Z"
   },
   {
    "duration": 551,
    "start_time": "2022-05-10T16:29:12.262Z"
   },
   {
    "duration": 1840,
    "start_time": "2022-05-10T16:29:12.815Z"
   },
   {
    "duration": 340,
    "start_time": "2022-05-10T16:29:14.658Z"
   },
   {
    "duration": 2708,
    "start_time": "2022-05-10T16:29:15.000Z"
   },
   {
    "duration": 430,
    "start_time": "2022-05-10T16:29:17.711Z"
   },
   {
    "duration": 84,
    "start_time": "2022-05-10T16:29:18.144Z"
   },
   {
    "duration": 7,
    "start_time": "2022-05-10T16:29:18.230Z"
   },
   {
    "duration": 448,
    "start_time": "2022-05-10T16:29:18.239Z"
   },
   {
    "duration": 384,
    "start_time": "2022-05-10T16:29:18.689Z"
   },
   {
    "duration": 435,
    "start_time": "2022-05-10T16:29:19.075Z"
   },
   {
    "duration": 408,
    "start_time": "2022-05-10T16:29:19.512Z"
   },
   {
    "duration": 425,
    "start_time": "2022-05-10T16:29:19.922Z"
   },
   {
    "duration": 461,
    "start_time": "2022-05-10T16:29:20.349Z"
   },
   {
    "duration": 1017,
    "start_time": "2022-05-10T16:29:20.815Z"
   },
   {
    "duration": 515,
    "start_time": "2022-05-10T16:29:21.835Z"
   },
   {
    "duration": 503,
    "start_time": "2022-05-10T16:29:22.353Z"
   },
   {
    "duration": 639,
    "start_time": "2022-05-10T16:29:22.859Z"
   },
   {
    "duration": 33,
    "start_time": "2022-05-10T16:29:23.501Z"
   },
   {
    "duration": 10,
    "start_time": "2022-05-10T16:29:23.537Z"
   },
   {
    "duration": 17,
    "start_time": "2022-05-10T16:29:23.549Z"
   },
   {
    "duration": 35,
    "start_time": "2022-05-10T16:29:27.607Z"
   },
   {
    "duration": 2056,
    "start_time": "2022-05-10T16:29:47.205Z"
   },
   {
    "duration": 134,
    "start_time": "2022-05-10T16:29:49.265Z"
   },
   {
    "duration": 28,
    "start_time": "2022-05-10T16:29:49.401Z"
   },
   {
    "duration": 99,
    "start_time": "2022-05-10T16:29:49.431Z"
   },
   {
    "duration": 9,
    "start_time": "2022-05-10T16:29:49.533Z"
   },
   {
    "duration": 9,
    "start_time": "2022-05-10T16:29:49.544Z"
   },
   {
    "duration": 757,
    "start_time": "2022-05-10T16:29:49.555Z"
   },
   {
    "duration": 21,
    "start_time": "2022-05-10T16:29:50.314Z"
   },
   {
    "duration": 28,
    "start_time": "2022-05-10T16:29:50.338Z"
   },
   {
    "duration": 31,
    "start_time": "2022-05-10T16:29:50.368Z"
   },
   {
    "duration": 29,
    "start_time": "2022-05-10T16:29:50.404Z"
   },
   {
    "duration": 25,
    "start_time": "2022-05-10T16:29:50.435Z"
   },
   {
    "duration": 130,
    "start_time": "2022-05-10T16:29:50.463Z"
   },
   {
    "duration": 40,
    "start_time": "2022-05-10T16:29:50.600Z"
   },
   {
    "duration": 371,
    "start_time": "2022-05-10T16:29:50.642Z"
   },
   {
    "duration": 553,
    "start_time": "2022-05-10T16:29:51.015Z"
   },
   {
    "duration": 1696,
    "start_time": "2022-05-10T16:29:51.570Z"
   },
   {
    "duration": 451,
    "start_time": "2022-05-10T16:29:53.270Z"
   },
   {
    "duration": 3024,
    "start_time": "2022-05-10T16:29:53.723Z"
   },
   {
    "duration": 519,
    "start_time": "2022-05-10T16:29:56.749Z"
   },
   {
    "duration": 111,
    "start_time": "2022-05-10T16:29:57.271Z"
   },
   {
    "duration": 17,
    "start_time": "2022-05-10T16:29:57.385Z"
   },
   {
    "duration": 426,
    "start_time": "2022-05-10T16:29:57.405Z"
   },
   {
    "duration": 506,
    "start_time": "2022-05-10T16:29:57.834Z"
   },
   {
    "duration": 417,
    "start_time": "2022-05-10T16:29:58.342Z"
   },
   {
    "duration": 402,
    "start_time": "2022-05-10T16:29:58.761Z"
   },
   {
    "duration": 409,
    "start_time": "2022-05-10T16:29:59.166Z"
   },
   {
    "duration": 434,
    "start_time": "2022-05-10T16:29:59.577Z"
   },
   {
    "duration": 1008,
    "start_time": "2022-05-10T16:30:00.018Z"
   },
   {
    "duration": 511,
    "start_time": "2022-05-10T16:30:01.029Z"
   },
   {
    "duration": 508,
    "start_time": "2022-05-10T16:30:01.542Z"
   },
   {
    "duration": 668,
    "start_time": "2022-05-10T16:30:02.053Z"
   },
   {
    "duration": 30,
    "start_time": "2022-05-10T16:30:02.723Z"
   },
   {
    "duration": 39,
    "start_time": "2022-05-10T16:30:02.755Z"
   },
   {
    "duration": 15,
    "start_time": "2022-05-10T16:30:02.796Z"
   },
   {
    "duration": 28,
    "start_time": "2022-05-10T16:30:37.761Z"
   },
   {
    "duration": 1552,
    "start_time": "2022-05-10T16:36:35.121Z"
   },
   {
    "duration": 93,
    "start_time": "2022-05-10T16:36:36.676Z"
   },
   {
    "duration": 38,
    "start_time": "2022-05-10T16:36:36.771Z"
   },
   {
    "duration": 90,
    "start_time": "2022-05-10T16:36:36.811Z"
   },
   {
    "duration": 10,
    "start_time": "2022-05-10T16:36:36.904Z"
   },
   {
    "duration": 8,
    "start_time": "2022-05-10T16:36:36.916Z"
   },
   {
    "duration": 1099,
    "start_time": "2022-05-10T16:36:36.926Z"
   },
   {
    "duration": 19,
    "start_time": "2022-05-10T16:36:38.027Z"
   },
   {
    "duration": 15,
    "start_time": "2022-05-10T16:36:38.049Z"
   },
   {
    "duration": 38,
    "start_time": "2022-05-10T16:36:38.067Z"
   },
   {
    "duration": 24,
    "start_time": "2022-05-10T16:36:38.108Z"
   },
   {
    "duration": 23,
    "start_time": "2022-05-10T16:36:38.135Z"
   },
   {
    "duration": 122,
    "start_time": "2022-05-10T16:36:38.160Z"
   },
   {
    "duration": 31,
    "start_time": "2022-05-10T16:36:38.296Z"
   },
   {
    "duration": 368,
    "start_time": "2022-05-10T16:36:38.329Z"
   },
   {
    "duration": 564,
    "start_time": "2022-05-10T16:36:38.700Z"
   },
   {
    "duration": 1618,
    "start_time": "2022-05-10T16:36:39.267Z"
   },
   {
    "duration": 326,
    "start_time": "2022-05-10T16:36:40.888Z"
   },
   {
    "duration": 2654,
    "start_time": "2022-05-10T16:36:41.216Z"
   },
   {
    "duration": 505,
    "start_time": "2022-05-10T16:36:43.872Z"
   },
   {
    "duration": 85,
    "start_time": "2022-05-10T16:36:44.379Z"
   },
   {
    "duration": 7,
    "start_time": "2022-05-10T16:36:44.467Z"
   },
   {
    "duration": 436,
    "start_time": "2022-05-10T16:36:44.494Z"
   },
   {
    "duration": 590,
    "start_time": "2022-05-10T16:36:44.932Z"
   },
   {
    "duration": 614,
    "start_time": "2022-05-10T16:36:45.525Z"
   },
   {
    "duration": 610,
    "start_time": "2022-05-10T16:36:46.142Z"
   },
   {
    "duration": 768,
    "start_time": "2022-05-10T16:36:46.755Z"
   },
   {
    "duration": 452,
    "start_time": "2022-05-10T16:36:47.525Z"
   },
   {
    "duration": 944,
    "start_time": "2022-05-10T16:36:47.992Z"
   },
   {
    "duration": 491,
    "start_time": "2022-05-10T16:36:48.939Z"
   },
   {
    "duration": 499,
    "start_time": "2022-05-10T16:36:49.432Z"
   },
   {
    "duration": 604,
    "start_time": "2022-05-10T16:36:49.934Z"
   },
   {
    "duration": 31,
    "start_time": "2022-05-10T16:36:50.541Z"
   },
   {
    "duration": 11,
    "start_time": "2022-05-10T16:36:50.596Z"
   },
   {
    "duration": 10,
    "start_time": "2022-05-10T16:36:50.610Z"
   },
   {
    "duration": 73,
    "start_time": "2022-05-10T17:04:17.446Z"
   },
   {
    "duration": 1882,
    "start_time": "2022-05-10T17:04:24.732Z"
   },
   {
    "duration": 94,
    "start_time": "2022-05-10T17:04:26.617Z"
   },
   {
    "duration": 31,
    "start_time": "2022-05-10T17:04:26.713Z"
   },
   {
    "duration": 101,
    "start_time": "2022-05-10T17:04:26.748Z"
   },
   {
    "duration": 10,
    "start_time": "2022-05-10T17:04:26.851Z"
   },
   {
    "duration": 13,
    "start_time": "2022-05-10T17:04:26.863Z"
   },
   {
    "duration": 1036,
    "start_time": "2022-05-10T17:04:26.879Z"
   },
   {
    "duration": 23,
    "start_time": "2022-05-10T17:04:27.918Z"
   },
   {
    "duration": 12,
    "start_time": "2022-05-10T17:04:27.943Z"
   },
   {
    "duration": 13,
    "start_time": "2022-05-10T17:04:27.961Z"
   },
   {
    "duration": 79,
    "start_time": "2022-05-10T17:04:27.976Z"
   },
   {
    "duration": 32,
    "start_time": "2022-05-10T17:04:28.057Z"
   },
   {
    "duration": 170,
    "start_time": "2022-05-10T17:04:28.091Z"
   },
   {
    "duration": 62,
    "start_time": "2022-05-10T17:04:28.264Z"
   },
   {
    "duration": 342,
    "start_time": "2022-05-10T17:04:28.328Z"
   },
   {
    "duration": 529,
    "start_time": "2022-05-10T17:04:28.672Z"
   },
   {
    "duration": 2227,
    "start_time": "2022-05-10T17:04:29.203Z"
   },
   {
    "duration": 712,
    "start_time": "2022-05-10T17:04:31.432Z"
   },
   {
    "duration": 4202,
    "start_time": "2022-05-10T17:04:32.147Z"
   },
   {
    "duration": 443,
    "start_time": "2022-05-10T17:04:36.352Z"
   },
   {
    "duration": 115,
    "start_time": "2022-05-10T17:04:36.798Z"
   },
   {
    "duration": 10,
    "start_time": "2022-05-10T17:04:36.925Z"
   },
   {
    "duration": 511,
    "start_time": "2022-05-10T17:04:36.938Z"
   },
   {
    "duration": 402,
    "start_time": "2022-05-10T17:04:37.452Z"
   },
   {
    "duration": 431,
    "start_time": "2022-05-10T17:04:37.857Z"
   },
   {
    "duration": 419,
    "start_time": "2022-05-10T17:04:38.290Z"
   },
   {
    "duration": 503,
    "start_time": "2022-05-10T17:04:38.712Z"
   },
   {
    "duration": 627,
    "start_time": "2022-05-10T17:04:39.230Z"
   },
   {
    "duration": 1001,
    "start_time": "2022-05-10T17:04:39.860Z"
   },
   {
    "duration": 509,
    "start_time": "2022-05-10T17:04:40.863Z"
   },
   {
    "duration": 498,
    "start_time": "2022-05-10T17:04:41.375Z"
   },
   {
    "duration": 734,
    "start_time": "2022-05-10T17:04:41.875Z"
   },
   {
    "duration": 41,
    "start_time": "2022-05-10T17:04:42.611Z"
   },
   {
    "duration": 12,
    "start_time": "2022-05-10T17:04:42.654Z"
   },
   {
    "duration": 14,
    "start_time": "2022-05-10T17:04:42.668Z"
   },
   {
    "duration": 70,
    "start_time": "2022-05-10T17:05:33.830Z"
   },
   {
    "duration": 50,
    "start_time": "2022-05-10T17:05:44.838Z"
   },
   {
    "duration": 69,
    "start_time": "2022-05-10T17:06:02.547Z"
   },
   {
    "duration": 120,
    "start_time": "2022-05-10T17:08:33.866Z"
   },
   {
    "duration": 141,
    "start_time": "2022-05-10T17:10:05.785Z"
   },
   {
    "duration": 414,
    "start_time": "2022-05-10T17:10:34.868Z"
   },
   {
    "duration": 1817,
    "start_time": "2022-05-10T17:10:53.249Z"
   },
   {
    "duration": 96,
    "start_time": "2022-05-10T17:10:55.069Z"
   },
   {
    "duration": 28,
    "start_time": "2022-05-10T17:10:55.167Z"
   },
   {
    "duration": 149,
    "start_time": "2022-05-10T17:10:55.199Z"
   },
   {
    "duration": 12,
    "start_time": "2022-05-10T17:10:55.352Z"
   },
   {
    "duration": 10,
    "start_time": "2022-05-10T17:10:55.367Z"
   },
   {
    "duration": 1009,
    "start_time": "2022-05-10T17:10:55.379Z"
   },
   {
    "duration": 34,
    "start_time": "2022-05-10T17:10:56.391Z"
   },
   {
    "duration": 21,
    "start_time": "2022-05-10T17:10:56.428Z"
   },
   {
    "duration": 17,
    "start_time": "2022-05-10T17:10:56.455Z"
   },
   {
    "duration": 66,
    "start_time": "2022-05-10T17:10:56.476Z"
   },
   {
    "duration": 28,
    "start_time": "2022-05-10T17:10:56.545Z"
   },
   {
    "duration": 185,
    "start_time": "2022-05-10T17:10:56.576Z"
   },
   {
    "duration": 369,
    "start_time": "2022-05-10T17:10:56.763Z"
   },
   {
    "duration": 598,
    "start_time": "2022-05-10T17:10:57.135Z"
   },
   {
    "duration": 1835,
    "start_time": "2022-05-10T17:10:57.735Z"
   },
   {
    "duration": 636,
    "start_time": "2022-05-10T17:10:59.625Z"
   },
   {
    "duration": 4991,
    "start_time": "2022-05-10T17:11:00.264Z"
   },
   {
    "duration": 521,
    "start_time": "2022-05-10T17:11:05.259Z"
   },
   {
    "duration": 113,
    "start_time": "2022-05-10T17:11:05.783Z"
   },
   {
    "duration": 29,
    "start_time": "2022-05-10T17:11:05.899Z"
   },
   {
    "duration": 693,
    "start_time": "2022-05-10T17:11:05.931Z"
   },
   {
    "duration": 543,
    "start_time": "2022-05-10T17:11:06.627Z"
   },
   {
    "duration": 460,
    "start_time": "2022-05-10T17:11:07.173Z"
   },
   {
    "duration": 451,
    "start_time": "2022-05-10T17:11:07.636Z"
   },
   {
    "duration": 476,
    "start_time": "2022-05-10T17:11:08.089Z"
   },
   {
    "duration": 457,
    "start_time": "2022-05-10T17:11:08.569Z"
   },
   {
    "duration": 1032,
    "start_time": "2022-05-10T17:11:09.033Z"
   },
   {
    "duration": 871,
    "start_time": "2022-05-10T17:11:10.069Z"
   },
   {
    "duration": 522,
    "start_time": "2022-05-10T17:11:10.943Z"
   },
   {
    "duration": 768,
    "start_time": "2022-05-10T17:11:11.469Z"
   },
   {
    "duration": 49,
    "start_time": "2022-05-10T17:11:12.241Z"
   },
   {
    "duration": 38,
    "start_time": "2022-05-10T17:11:12.293Z"
   },
   {
    "duration": 14,
    "start_time": "2022-05-10T17:11:12.334Z"
   }
  ],
  "kernelspec": {
   "display_name": "Python 3 (ipykernel)",
   "language": "python",
   "name": "python3"
  },
  "language_info": {
   "codemirror_mode": {
    "name": "ipython",
    "version": 3
   },
   "file_extension": ".py",
   "mimetype": "text/x-python",
   "name": "python",
   "nbconvert_exporter": "python",
   "pygments_lexer": "ipython3",
   "version": "3.9.7"
  },
  "toc": {
   "base_numbering": 1,
   "nav_menu": {},
   "number_sections": true,
   "sideBar": true,
   "skip_h1_title": true,
   "title_cell": "Table of Contents",
   "title_sidebar": "Contents",
   "toc_cell": false,
   "toc_position": {
    "height": "calc(100% - 180px)",
    "left": "10px",
    "top": "150px",
    "width": "322.391px"
   },
   "toc_section_display": true,
   "toc_window_display": true
  }
 },
 "nbformat": 4,
 "nbformat_minor": 2
}
